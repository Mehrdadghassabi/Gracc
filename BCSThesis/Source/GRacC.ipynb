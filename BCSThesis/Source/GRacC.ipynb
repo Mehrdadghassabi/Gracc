{
  "nbformat": 4,
  "nbformat_minor": 0,
  "metadata": {
    "colab": {
      "name": "Untitled19.ipynb",
      "provenance": []
    },
    "kernelspec": {
      "name": "python3",
      "display_name": "Python 3"
    },
    "language_info": {
      "name": "python"
    }
  },
  "cells": [
    {
      "cell_type": "code",
      "execution_count": 22,
      "metadata": {
        "colab": {
          "base_uri": "https://localhost:8080/"
        },
        "id": "nQxMLyWK7Xi4",
        "outputId": "9bcc258b-aae0-436d-b725-bd89031863ac"
      },
      "outputs": [
        {
          "output_type": "stream",
          "name": "stdout",
          "text": [
            "Looking in indexes: https://pypi.org/simple, https://us-python.pkg.dev/colab-wheels/public/simple/\n",
            "Requirement already satisfied: numpy in /usr/local/lib/python3.7/dist-packages (1.21.6)\n",
            "--2022-07-12 23:48:21--  https://raw.githubusercontent.com/Mehrdadghassabi/Gracc/master/BCSThesis/Source/circuits/circuit1.txt\n",
            "Resolving raw.githubusercontent.com (raw.githubusercontent.com)... 185.199.110.133, 185.199.109.133, 185.199.111.133, ...\n",
            "Connecting to raw.githubusercontent.com (raw.githubusercontent.com)|185.199.110.133|:443... connected.\n",
            "HTTP request sent, awaiting response... 200 OK\n",
            "Length: 69 [text/plain]\n",
            "Saving to: ‘circuit1.txt.1’\n",
            "\n",
            "circuit1.txt.1      100%[===================>]      69  --.-KB/s    in 0s      \n",
            "\n",
            "2022-07-12 23:48:22 (2.91 MB/s) - ‘circuit1.txt.1’ saved [69/69]\n",
            "\n"
          ]
        }
      ],
      "source": [
        "!pip install numpy\n",
        "!wget https://raw.githubusercontent.com/Mehrdadghassabi/Gracc/master/BCSThesis/Source/circuits/circuit1.txt"
      ]
    },
    {
      "cell_type": "code",
      "source": [
        "from scipy.sparse import csr_matrix\n",
        "from scipy.sparse.csgraph import minimum_spanning_tree\n",
        "import numpy as np"
      ],
      "metadata": {
        "id": "EtW_515c7ehe"
      },
      "execution_count": 23,
      "outputs": []
    },
    {
      "cell_type": "code",
      "source": [
        "# this function get the example circuit information\n",
        "# from .txt file by parsing it\n",
        "# \n",
        "# returns an array which contains\n",
        "#    nodesnumber ,\n",
        "#    edgesnumber ,\n",
        "#    an array which contains resistors of each edge ,\n",
        "#    an array which contains batterys vlotage of each edge ,\n",
        "#    an array which contains capacitors of each edge ,\n",
        "#    an array which contains selves of each edge &\n",
        "#    Kirchoff graph adjacency matrix\n",
        "def parsing_cicuit(circ):\n",
        "     nodesnumber = 0\n",
        "     edgesnumber = 0\n",
        "     resistors = np.zeros((6), dtype=int)\n",
        "     batterys = np.zeros((6), dtype=int)\n",
        "     capacitors = np.zeros((6), dtype=int)\n",
        "     selves = np.zeros((6), dtype=int)\n",
        "     i = 0\n",
        "     # i is the loop variable\n",
        "     with open(circ) as f:\n",
        "         for line in f:\n",
        "            # for each line in the .txt file get the line number i\n",
        "            omitnewlines = line.replace('\\n', '')\n",
        "            # remove newlines\n",
        "            arrstr = omitnewlines.split(\" \")\n",
        "            arrint = [int(numeric_string) for numeric_string in arrstr]\n",
        "            # in each lines there are some numbers\n",
        "            # convert the line which is a string to array of numbers\n",
        "            if i == 0 :\n",
        "              # if its the first line it determines \n",
        "              # number of nodes & edges\n",
        "              nodesnumber = arrint[0]\n",
        "              edgesnumber = arrint[1]\n",
        "              adjacencymatrix = np.zeros([nodesnumber,nodesnumber], dtype=int)\n",
        "            else :\n",
        "              # else it means that this line is an information about an edge\n",
        "              # the origin and the destanation node\n",
        "              # & information that an edge contains\n",
        "              xmat = arrint[0]\n",
        "              ymat = arrint[1]\n",
        "              adjacencymatrix[xmat][ymat] = 1\n",
        "              resistors[i-1] = arrint[2]\n",
        "              batterys[i-1] = arrint[3]\n",
        "              capacitors[i-1] = arrint[4]\n",
        "              selves[i-1] = arrint[5]\n",
        "            i = i + 1\n",
        "     # return them as an array ! !!\n",
        "     circ = [nodesnumber,edgesnumber,resistors,batterys,\n",
        "             capacitors,selves,adjacencymatrix]\n",
        "\n",
        "     return circ"
      ],
      "metadata": {
        "id": "gO4Hou6K7jSV"
      },
      "execution_count": 24,
      "outputs": []
    },
    {
      "cell_type": "code",
      "source": [
        "circuit1 = parsing_cicuit('circuit1.txt')\n",
        "print(circuit1[6])\n"
      ],
      "metadata": {
        "colab": {
          "base_uri": "https://localhost:8080/"
        },
        "id": "PTP-Kfig79lV",
        "outputId": "ccffebe7-607e-430e-c48e-fbc836dd1b36"
      },
      "execution_count": 25,
      "outputs": [
        {
          "output_type": "stream",
          "name": "stdout",
          "text": [
            "[[0 1 1 1]\n",
            " [0 0 1 1]\n",
            " [0 0 0 0]\n",
            " [0 0 0 0]]\n"
          ]
        }
      ]
    }
  ]
}