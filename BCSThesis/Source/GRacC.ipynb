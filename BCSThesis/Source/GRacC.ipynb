{
  "nbformat": 4,
  "nbformat_minor": 0,
  "metadata": {
    "colab": {
      "name": "GRacC.ipynb",
      "provenance": []
    },
    "kernelspec": {
      "name": "python3",
      "display_name": "Python 3"
    },
    "language_info": {
      "name": "python"
    }
  },
  "cells": [
    {
      "cell_type": "code",
      "execution_count": 1,
      "metadata": {
        "colab": {
          "base_uri": "https://localhost:8080/"
        },
        "id": "TD120WyqILQy",
        "outputId": "2f791344-f4be-43dc-903f-2d0433a930a9"
      },
      "outputs": [
        {
          "output_type": "stream",
          "name": "stdout",
          "text": [
            "--2022-08-09 15:36:10--  https://raw.githubusercontent.com/Mehrdadghassabi/Gracc/master/BCSThesis/Source/circuits/circuit1.txt\n",
            "Resolving raw.githubusercontent.com (raw.githubusercontent.com)... 185.199.108.133, 185.199.109.133, 185.199.110.133, ...\n",
            "Connecting to raw.githubusercontent.com (raw.githubusercontent.com)|185.199.108.133|:443... connected.\n",
            "HTTP request sent, awaiting response... 200 OK\n",
            "Length: 71 [text/plain]\n",
            "Saving to: ‘circuit1.txt’\n",
            "\n",
            "\rcircuit1.txt          0%[                    ]       0  --.-KB/s               \rcircuit1.txt        100%[===================>]      71  --.-KB/s    in 0s      \n",
            "\n",
            "2022-08-09 15:36:10 (4.05 MB/s) - ‘circuit1.txt’ saved [71/71]\n",
            "\n",
            "--2022-08-09 15:36:10--  https://raw.githubusercontent.com/Mehrdadghassabi/Gracc/master/BCSThesis/Source/circuits/circuit2.txt\n",
            "Resolving raw.githubusercontent.com (raw.githubusercontent.com)... 185.199.108.133, 185.199.109.133, 185.199.110.133, ...\n",
            "Connecting to raw.githubusercontent.com (raw.githubusercontent.com)|185.199.108.133|:443... connected.\n",
            "HTTP request sent, awaiting response... 200 OK\n",
            "Length: 94 [text/plain]\n",
            "Saving to: ‘circuit2.txt’\n",
            "\n",
            "circuit2.txt        100%[===================>]      94  --.-KB/s    in 0s      \n",
            "\n",
            "2022-08-09 15:36:10 (4.29 MB/s) - ‘circuit2.txt’ saved [94/94]\n",
            "\n",
            "--2022-08-09 15:36:11--  https://raw.githubusercontent.com/Mehrdadghassabi/Gracc/master/BCSThesis/Source/circuits/circuit3.txt\n",
            "Resolving raw.githubusercontent.com (raw.githubusercontent.com)... 185.199.108.133, 185.199.109.133, 185.199.110.133, ...\n",
            "Connecting to raw.githubusercontent.com (raw.githubusercontent.com)|185.199.108.133|:443... connected.\n",
            "HTTP request sent, awaiting response... 200 OK\n",
            "Length: 65 [text/plain]\n",
            "Saving to: ‘circuit3.txt’\n",
            "\n",
            "circuit3.txt        100%[===================>]      65  --.-KB/s    in 0s      \n",
            "\n",
            "2022-08-09 15:36:11 (2.76 MB/s) - ‘circuit3.txt’ saved [65/65]\n",
            "\n",
            "--2022-08-09 15:36:11--  https://raw.githubusercontent.com/Mehrdadghassabi/Gracc/master/BCSThesis/Source/circuits/circuit4.txt\n",
            "Resolving raw.githubusercontent.com (raw.githubusercontent.com)... 185.199.108.133, 185.199.111.133, 185.199.110.133, ...\n",
            "Connecting to raw.githubusercontent.com (raw.githubusercontent.com)|185.199.108.133|:443... connected.\n",
            "HTTP request sent, awaiting response... 200 OK\n",
            "Length: 65 [text/plain]\n",
            "Saving to: ‘circuit4.txt’\n",
            "\n",
            "circuit4.txt        100%[===================>]      65  --.-KB/s    in 0s      \n",
            "\n",
            "2022-08-09 15:36:11 (2.70 MB/s) - ‘circuit4.txt’ saved [65/65]\n",
            "\n",
            "--2022-08-09 15:36:11--  https://raw.githubusercontent.com/Mehrdadghassabi/Gracc/master/BCSThesis/Source/circuits/circuit5.txt\n",
            "Resolving raw.githubusercontent.com (raw.githubusercontent.com)... 185.199.108.133, 185.199.109.133, 185.199.110.133, ...\n",
            "Connecting to raw.githubusercontent.com (raw.githubusercontent.com)|185.199.108.133|:443... connected.\n",
            "HTTP request sent, awaiting response... 200 OK\n",
            "Length: 52 [text/plain]\n",
            "Saving to: ‘circuit5.txt’\n",
            "\n",
            "circuit5.txt        100%[===================>]      52  --.-KB/s    in 0s      \n",
            "\n",
            "2022-08-09 15:36:11 (1.68 MB/s) - ‘circuit5.txt’ saved [52/52]\n",
            "\n",
            "Looking in indexes: https://pypi.org/simple, https://us-python.pkg.dev/colab-wheels/public/simple/\n",
            "Collecting odeintw\n",
            "  Downloading odeintw-0.1.1-py3-none-any.whl (7.6 kB)\n",
            "Requirement already satisfied: scipy in /usr/local/lib/python3.7/dist-packages (from odeintw) (1.7.3)\n",
            "Requirement already satisfied: numpy<1.23.0,>=1.16.5 in /usr/local/lib/python3.7/dist-packages (from scipy->odeintw) (1.21.6)\n",
            "Installing collected packages: odeintw\n",
            "Successfully installed odeintw-0.1.1\n"
          ]
        }
      ],
      "source": [
        "!wget https://raw.githubusercontent.com/Mehrdadghassabi/Gracc/master/BCSThesis/Source/circuits/circuit1.txt\n",
        "!wget https://raw.githubusercontent.com/Mehrdadghassabi/Gracc/master/BCSThesis/Source/circuits/circuit2.txt\n",
        "!wget https://raw.githubusercontent.com/Mehrdadghassabi/Gracc/master/BCSThesis/Source/circuits/circuit3.txt\n",
        "!wget https://raw.githubusercontent.com/Mehrdadghassabi/Gracc/master/BCSThesis/Source/circuits/circuit4.txt\n",
        "!wget https://raw.githubusercontent.com/Mehrdadghassabi/Gracc/master/BCSThesis/Source/circuits/circuit5.txt\n",
        "!pip3 install odeintw"
      ]
    },
    {
      "cell_type": "code",
      "source": [
        "import networkx as nx\n",
        "import numpy as np\n",
        "import pandas as pd\n",
        "from scipy import linalg\n",
        "import matplotlib.pyplot as plt\n",
        "import random as rm\n",
        "import odeintw as ow"
      ],
      "metadata": {
        "id": "SVUEjbvZJKGt"
      },
      "execution_count": 2,
      "outputs": []
    },
    {
      "cell_type": "code",
      "source": [
        "def str_on_edge(a,b,c,d):\n",
        "    s = ''\n",
        "    if not a == 0 :\n",
        "       s = s + str(a) + 'Ohms '\n",
        "    if not b == 0 :\n",
        "       s = s + str(b) + 'Volts '\n",
        "    if not c == 0 :\n",
        "       s = s + str(c) + 'Farad '\n",
        "    if not d == 0 :\n",
        "       s = s + str(d) + 'Henry '\n",
        "    return s"
      ],
      "metadata": {
        "id": "R1yoy315I9-4"
      },
      "execution_count": 3,
      "outputs": []
    },
    {
      "cell_type": "code",
      "source": [
        "# this function get the example circuit information\n",
        "# from .txt file by parsing it\n",
        "# \n",
        "# returns kirchoff graph as the result\n",
        "def circuit_parser(circ):\n",
        "     nodesnumber = 0\n",
        "     edgesnumber = 0\n",
        "     kgedgatt = {}\n",
        "     kgnodatt = {}\n",
        "     i = 0\n",
        "     # i is the loop variable\n",
        "     with open(circ) as f:\n",
        "         for line in f:\n",
        "            # for each line in the .txt file get the line number i\n",
        "            omitnewlines = line.replace('\\n', '')\n",
        "            # remove newlines\n",
        "            arrstr = omitnewlines.split(\" \")\n",
        "            arrnum = [float(numeric_string) for numeric_string in arrstr]\n",
        "            # in each lines there are some numbers\n",
        "            # convert the line which is a string to array of numbers\n",
        "            if i == 0 :\n",
        "              # if its the first line it determines \n",
        "              # number of nodes & edges\n",
        "              nodesnumber = int(arrnum[0])\n",
        "              edgesnumber = int(arrnum[1])\n",
        "              kgam = np.zeros([nodesnumber,nodesnumber], dtype=float)\n",
        "            else :\n",
        "              # else it means that this line is an information about an edge\n",
        "              # the origin and the destanation node\n",
        "              # & information that an edge contains\n",
        "              xmat = int(arrnum[0])\n",
        "              ymat = int(arrnum[1])\n",
        "\n",
        "              Coord = (xmat,ymat)\n",
        "              kgam[xmat][ymat] = 1\n",
        "   \n",
        "              att_of_edge = {}\n",
        "              att_of_edge['resistor'] = arrnum[2]\n",
        "              att_of_edge['battery'] = arrnum[3]\n",
        "              att_of_edge['capacitor'] = arrnum[4]\n",
        "              att_of_edge['self'] = arrnum[5]\n",
        "              att_of_edge['suggested_dir'] = Coord\n",
        "              att_of_edge['whole'] = str_on_edge(arrnum[2],arrnum[3],\n",
        "                                                 arrnum[4],arrnum[5])\n",
        "\n",
        "              kgedgatt[Coord] = att_of_edge\n",
        "            i = i + 1\n",
        "     df = pd.DataFrame(kgam)\n",
        "     kg = nx.from_pandas_adjacency(df)\n",
        "     nx.set_edge_attributes(kg, kgedgatt)\n",
        "     return kg"
      ],
      "metadata": {
        "id": "lyRTZoavI5pC"
      },
      "execution_count": 4,
      "outputs": []
    },
    {
      "cell_type": "code",
      "source": [
        "def circuit_type(kg):\n",
        "    contain_self  = False\n",
        "    contain_capacitor = False\n",
        "    svals = nx.get_edge_attributes(kg,'self').values()\n",
        "    cvals = nx.get_edge_attributes(kg,'capacitor').values()\n",
        "    for sval in svals:\n",
        "        if not sval == 0 :\n",
        "           contain_self = True\n",
        "    for cval in cvals:\n",
        "        if not cval == 0 :\n",
        "           contain_capacitor = True\n",
        "    if not contain_self and not contain_capacitor :\n",
        "        return 'Ordinary'\n",
        "    if not contain_self and contain_capacitor :\n",
        "        return 'RC'\n",
        "    if contain_self and not contain_capacitor :\n",
        "        return 'RL'\n",
        "    if contain_self and contain_capacitor :\n",
        "        return 'RLC'"
      ],
      "metadata": {
        "id": "iaWtdc3t83qs"
      },
      "execution_count": 5,
      "outputs": []
    },
    {
      "cell_type": "code",
      "source": [
        "# this function takes kirchoff graph & minimum spaning tree\n",
        "# and returns edges that eliminated \n",
        "# from kirchoff graph to build its minimum spaning tree\n",
        "#\n",
        "# kirchoff graph minimum spaning tree + eliminated edges = kirchoff graph \n",
        "def eliminated_edges(kgam,kgmstam):\n",
        "    nodesnumber = len(kgam)\n",
        "    l = []\n",
        "    for i in range(nodesnumber):\n",
        "       for j in range(nodesnumber):\n",
        "           if kgam[i][j] == 1 and kgmstam[i][j]== 0 :\n",
        "              if [j,i] not in l :\n",
        "                 l.append([i,j])\n",
        "    return np.array(l)"
      ],
      "metadata": {
        "id": "K6tOK1p5I70B"
      },
      "execution_count": 6,
      "outputs": []
    },
    {
      "cell_type": "code",
      "source": [
        "# by removing some edges from kirchoff graph\n",
        "# we calculated minimum spaning tree\n",
        "# for finding fundemental cycles of kirchoff graph\n",
        "# we need to restore eliminated edges one by one\n",
        "# and create list of graph (for more description read the doc)\n",
        "# \n",
        "# this function takes minimum spaning tree (kgmst)\n",
        "#  & eliminated edges as input\n",
        "# and return the list that mentioned above\n",
        "def find_fundamental_cut_set_graph(kgmstam,eled):\n",
        "    i = 0\n",
        "    glam = np.zeros([len(eled),len(kgmstam),len(kgmstam)], dtype=int)\n",
        "    gl = []\n",
        "    for edge in eled :\n",
        "        glam[i] = kgmstam\n",
        "        glam[i][edge[0]][edge[1]] = 1\n",
        "        glam[i][edge[1]][edge[0]] = 1\n",
        "        i = i + 1\n",
        "    for am in glam :\n",
        "        df = pd.DataFrame(am)\n",
        "        g = nx.from_pandas_adjacency(df)\n",
        "        gl.append(g)\n",
        "    return gl\n",
        "        "
      ],
      "metadata": {
        "id": "Z3UH4IMEJXYI"
      },
      "execution_count": 7,
      "outputs": []
    },
    {
      "cell_type": "code",
      "source": [
        "# this function get graph list as input\n",
        "# and returns kirchoff graph fundamental cycles as list\n",
        "def find_fundamental_cycles(gl) :\n",
        "    fcl = []\n",
        "    for g in gl :\n",
        "        try:\n",
        "           fcl.append(nx.find_cycle(g, orientation=\"ignore\"))\n",
        "        except nx.exception.NetworkXNoCycle:\n",
        "           continue\n",
        "    return fcl"
      ],
      "metadata": {
        "id": "jD0NKXetJd46"
      },
      "execution_count": 8,
      "outputs": []
    },
    {
      "cell_type": "code",
      "source": [
        "def sugdir_is_same_with_given_dir(org,dst,suggested_dir):\n",
        "    return (suggested_dir[0] == org) and (suggested_dir[1] == dst)"
      ],
      "metadata": {
        "id": "BcGWYR0LJh2R"
      },
      "execution_count": 9,
      "outputs": []
    },
    {
      "cell_type": "code",
      "source": [
        "def get_edge_index(kg,org,dst):\n",
        "    edges = kg.edges()\n",
        "    i = 0 \n",
        "    for edge in kg.edges():\n",
        "        c1 = edge[0] == org and edge[1] == dst\n",
        "        c2 = edge[1] == org and edge[0] == dst\n",
        "        if c1 or c2 :\n",
        "           return i\n",
        "        i = i + 1"
      ],
      "metadata": {
        "id": "m11n65kvJjrO"
      },
      "execution_count": 10,
      "outputs": []
    },
    {
      "cell_type": "code",
      "source": [
        "def find_kg_edges_weights_ord(kg):\n",
        "    kgmst = nx.minimum_spanning_tree(kg)\n",
        "    kgmstam = nx.to_numpy_array(kgmst).astype(int)\n",
        "    kgam = nx.to_numpy_array(kg).astype(int)\n",
        "    eled = eliminated_edges(kgam,kgmstam)\n",
        "    gl = find_fundamental_cut_set_graph(kgmstam,eled)\n",
        "    fcl = find_fundamental_cycles(gl)\n",
        "    edge_number = kg.number_of_edges()\n",
        "    B = np.zeros([edge_number,1])\n",
        "    A = np.zeros([edge_number,edge_number])\n",
        "    i = 0\n",
        "    for cycle in fcl :\n",
        "        volsum = 0\n",
        "        res = 0\n",
        "        for edge in cycle :\n",
        "            org = edge[0]\n",
        "            dst = edge[1]\n",
        "            sugdir = kg.get_edge_data(org,dst)['suggested_dir']\n",
        "            if sugdir_is_same_with_given_dir(org,dst,sugdir) :\n",
        "               volsum = volsum - kg.get_edge_data(org,dst)['battery']\n",
        "               res = -kg.get_edge_data(org,dst)['resistor']\n",
        "               cor = get_edge_index(kg,org,dst)\n",
        "               A[i][cor] = res\n",
        "            else :\n",
        "               volsum = volsum + kg.get_edge_data(org,dst)['battery']\n",
        "               res = +kg.get_edge_data(org,dst)['resistor']\n",
        "               cor = get_edge_index(kg,org,dst)\n",
        "               A[i][cor] = res\n",
        "        B[i][0]= volsum\n",
        "        i = i + 1\n",
        "    for node in kg.nodes :\n",
        "        for nei in kg.neighbors(node):\n",
        "            sugdir = kg.get_edge_data(node,nei)['suggested_dir']\n",
        "            inr = sugdir_is_same_with_given_dir(node,nei,sugdir)\n",
        "            cor = get_edge_index(kg,node,nei)\n",
        "            if sugdir_is_same_with_given_dir(node,nei,sugdir) :\n",
        "               A[i][cor] = -1\n",
        "            else :\n",
        "               A[i][cor] = 1\n",
        "        i = i + 1\n",
        "        if i == kg.number_of_edges():\n",
        "           break\n",
        "    return linalg.solve(A, B)"
      ],
      "metadata": {
        "id": "znJ-lMgmJqE-"
      },
      "execution_count": 11,
      "outputs": []
    },
    {
      "cell_type": "code",
      "source": [
        "def find_kg_edges_weights_RC_and_RL(kg):\n",
        "    kgmst = nx.minimum_spanning_tree(kg)\n",
        "    kgmstam = nx.to_numpy_array(kgmst).astype(int)\n",
        "    kgam = nx.to_numpy_array(kg).astype(int)\n",
        "    eled = eliminated_edges(kgam,kgmstam)\n",
        "    gl = find_fundamental_cut_set_graph(kgmstam,eled)\n",
        "    fcl = find_fundamental_cycles(gl)\n",
        "    edge_number = kg.number_of_edges()\n",
        "    B1 = np.zeros([edge_number,1])\n",
        "    A1 = np.zeros([edge_number,edge_number])\n",
        "\n",
        "    variable_weight_edge = []\n",
        "    const_weight_edge = []\n",
        "    const_weight_cycle = []\n",
        "    variable_weight_cycle = []\n",
        "    variable_weight_cycle_index = []\n",
        "\n",
        "    circtyp = circuit_type(kg)\n",
        "\n",
        "    i = 0\n",
        "    for cycle in fcl :\n",
        "        volsum = 0\n",
        "        res = 0\n",
        "        varicyc = False\n",
        "        for edge in cycle :\n",
        "            org = edge[0]\n",
        "            dst = edge[1]\n",
        "            sugdir = kg.get_edge_data(org,dst)['suggested_dir']\n",
        "            cap = kg.get_edge_data(org,dst)['capacitor']\n",
        "            sel = kg.get_edge_data(org,dst)['self']\n",
        "            capsel = cap if circtyp == 'RC' else sel\n",
        "            istrt = sugdir_is_same_with_given_dir(org,dst,sugdir)\n",
        "            t =  (org,dst) if (istrt) else (dst,org)\n",
        "            if capsel == 0 :\n",
        "                  if not t in const_weight_edge:\n",
        "                     const_weight_edge.append(t)\n",
        "            else :\n",
        "                  varicyc = True\n",
        "                  if not t in variable_weight_edge :\n",
        "                     variable_weight_edge.append(t)\n",
        "        if varicyc :\n",
        "            variable_weight_cycle.append(cycle)\n",
        "            variable_weight_cycle_index.append(i)\n",
        "        else :\n",
        "            const_weight_cycle.append(cycle)\n",
        "        i = i + 1\n",
        "\n",
        "    a,b,c,d,e = variable_weight_edge,const_weight_edge,const_weight_cycle,variable_weight_cycle,variable_weight_cycle_index\n",
        "\n",
        "\n",
        "    i = 0\n",
        "    for cycle in fcl :\n",
        "        volsum = 0\n",
        "        res = 0\n",
        "        for edge in cycle :\n",
        "            org = edge[0]\n",
        "            dst = edge[1]\n",
        "            sugdir = kg.get_edge_data(org,dst)['suggested_dir']\n",
        "            if sugdir_is_same_with_given_dir(org,dst,sugdir) :\n",
        "               volsum = volsum - kg.get_edge_data(org,dst)['battery']\n",
        "               res = -kg.get_edge_data(org,dst)['resistor']\n",
        "               cor = get_edge_index(kg,org,dst)\n",
        "               A1[i][cor] = res\n",
        "            else :\n",
        "               volsum = volsum + kg.get_edge_data(org,dst)['battery']\n",
        "               res = +kg.get_edge_data(org,dst)['resistor']\n",
        "               cor = get_edge_index(kg,org,dst)\n",
        "               A1[i][cor] = res\n",
        "        B1[i][0]= volsum\n",
        "        i = i + 1\n",
        "    for node in kg.nodes :\n",
        "        for nei in kg.neighbors(node):\n",
        "            sugdir = kg.get_edge_data(node,nei)['suggested_dir']\n",
        "            inr = sugdir_is_same_with_given_dir(node,nei,sugdir)\n",
        "            cor = get_edge_index(kg,node,nei)\n",
        "            if sugdir_is_same_with_given_dir(node,nei,sugdir) :\n",
        "               A1[i][cor] = -1\n",
        "            else :\n",
        "               A1[i][cor] = 1\n",
        "        i = i + 1\n",
        "        if i == kg.number_of_edges():\n",
        "           break\n",
        "\n",
        "    for index1 in e :\n",
        "        A1 = np.delete(A1, index1, 0)\n",
        "        B1 = np.delete(B1, index1, 0)\n",
        "    kwnv = []\n",
        "    for n in range(len(a)):\n",
        "        edin = get_edge_index(kg3,a[n][0],a[n][1])\n",
        "        row_to_append = A1[:, edin].tolist()\n",
        "        kwnv.append(row_to_append)\n",
        "        A1 = np.delete(A1,edin,1)\n",
        "    kwnvT = np.array(kwnv).T\n",
        "    B1 = np.concatenate((B1, kwnvT), axis=1)\n",
        "\n",
        "    ans = linalg.solve(A1, B1)\n",
        "    for x in range(len(a)):\n",
        "        index1 = get_edge_index(kg,a[x][0],a[x][1])\n",
        "        l = []\n",
        "        for y in range(len(e)):\n",
        "            l.append(None)\n",
        "        ans = np.insert(ans, index1 , l, axis = 0)\n",
        "\n",
        "    A = np.zeros([len(a),len(a)])\n",
        "    B = np.zeros([len(a),len(a)])\n",
        "    C = np.zeros([len(a),len(a)])\n",
        "    i = 0\n",
        "    dic = dict()\n",
        "    for loop in d :\n",
        "        j = 0\n",
        "        for edge in loop :\n",
        "            cap = kg.get_edge_data(edge[0],edge[1])['capacitor']\n",
        "            sel = kg.get_edge_data(org,dst)['self']\n",
        "            index = get_edge_index(kg,edge[0],edge[1])\n",
        "            caprsnt = not cap == 0 \n",
        "            slprsnt = not sel == 0 \n",
        "            slcaprsnt = caprsnt if circtyp == 'RC' else slprsnt\n",
        "            if slcaprsnt :\n",
        "               dic[j] = index\n",
        "               cof = - 1 / cap if circtyp == 'RC' else -sel\n",
        "               A[i][j] = cof\n",
        "               j = j + 1\n",
        "        i = i + 1\n",
        "    for loop in d :\n",
        "        i = 0\n",
        "        for edge in loop :\n",
        "            res = kg.get_edge_data(edge[0],edge[1])['resistor']\n",
        "            index = get_edge_index(kg,edge[0],edge[1])\n",
        "            resprsnt = not res == 0 \n",
        "\n",
        "            if resprsnt :\n",
        "               count = 0\n",
        "               arr = ans[index]\n",
        "               k = 0\n",
        "               for el in arr :\n",
        "                   if k == 0:\n",
        "                      C[i][count] = C[i][count] + (el*res)\n",
        "                   else:\n",
        "                      B[i][count] = B[i][count] + (el*res)\n",
        "                   k = k + 1\n",
        "               count = count + 1\n",
        "                   \n",
        "            i = i + 1\n",
        "    if circtyp == 'RC':\n",
        "       return np.linalg.inv(linalg.solve(A, B)),ans\n",
        "    elif circtyp == 'RL':\n",
        "       return linalg.solve(A, B),ans\n",
        "    else :\n",
        "       # should not get here\n",
        "       return None"
      ],
      "metadata": {
        "id": "CZkCTroBvI_o"
      },
      "execution_count": 12,
      "outputs": []
    },
    {
      "cell_type": "code",
      "source": [
        "\n",
        "def round_kg_edges_weights(edw):\n",
        "    i = 0\n",
        "    for ele in edw:\n",
        "        edw[i][0] = round(edw[i][0],3)\n",
        "        i = i + 1\n",
        "    return edw"
      ],
      "metadata": {
        "id": "yAldKsW3JsNS"
      },
      "execution_count": 13,
      "outputs": []
    },
    {
      "cell_type": "code",
      "source": [
        "# related to \n",
        "# solving matrix differential equation\n",
        "def asys(a, t, c):\n",
        "    return c.dot(a)"
      ],
      "metadata": {
        "id": "OEGH6MqU-eQb"
      },
      "execution_count": 14,
      "outputs": []
    },
    {
      "cell_type": "code",
      "source": [
        "# ploting dX/dt = A * X answers\n",
        "# input X0,A\n",
        "def solve_matrix_eq(a,x0,l):\n",
        "    # a = np.array([[-0.5]])\n",
        "    n = len(a)\n",
        "    t = np.linspace(0, 10, 201)\n",
        "\n",
        "    # x0 is the initial condition.\n",
        "    # x0 = np.array([[7.0]])\n",
        "    \n",
        "    sol = ow.odeintw(asys, x0, t, args=(a,))\n",
        "\n",
        "    plt.figure(1)\n",
        "    plt.clf()\n",
        "    colorlist = []\n",
        "    for i in range(n):\n",
        "        c = (rm.uniform(0, 1),rm.uniform(0, 1),rm.uniform(0, 1))\n",
        "        l = 'I[' + str(l[i]) + ']'\n",
        "        plt.plot(t, sol[:, 0, i], color = c, label=l)\n",
        "\n",
        "\n",
        "    plt.legend(loc='best')\n",
        "    plt.grid(True)\n",
        "    plt.show()"
      ],
      "metadata": {
        "id": "G7DRiH7Q-lk3"
      },
      "execution_count": 15,
      "outputs": []
    },
    {
      "cell_type": "code",
      "source": [
        "def find_variable_edge_index(answ):\n",
        "    l = []\n",
        "    count = 0\n",
        "    for t in answ :\n",
        "        if np.isnan(t[0]) :\n",
        "           l.append(count)\n",
        "        count = count + 1\n",
        "    return l"
      ],
      "metadata": {
        "id": "g12Oa1I3-nhC"
      },
      "execution_count": 16,
      "outputs": []
    },
    {
      "cell_type": "code",
      "source": [
        "def find_other_edge_weight(l,ans):\n",
        "    wt = []\n",
        "    i = 0\n",
        "    for a in ans:\n",
        "        j = 0\n",
        "        if not np.isnan(a[0]):\n",
        "           st = 'I' + str(i) + '= '\n",
        "           for element in a:\n",
        "               if j == 0 :\n",
        "                  st = st  + str(element)\n",
        "               else :\n",
        "                  st = st + ' + ' + str(element) + 'I' + str(l[j-1])\n",
        "               j = j + 1\n",
        "           wt.append(st)\n",
        "        i = i + 1\n",
        "            \n",
        "    return wt"
      ],
      "metadata": {
        "id": "Sy3LbnyC-y0y"
      },
      "execution_count": 17,
      "outputs": []
    },
    {
      "cell_type": "code",
      "source": [
        "def sug_dir_for_printing(vals):\n",
        "    s = ''\n",
        "    for val in vals :\n",
        "        s = s + '[' + str(val[0]) + ']' + '---->' + '[' + str(val[1]) + ']' + '\\n'\n",
        "    return s"
      ],
      "metadata": {
        "id": "r6aQ5FfPNx2g"
      },
      "execution_count": 127,
      "outputs": []
    },
    {
      "cell_type": "code",
      "source": [
        "def pos_for_printing_sth(nodespos):\n",
        "    re = []\n",
        "    vls = list(nodespos.values())\n",
        "    minx = 0\n",
        "    miny = 0\n",
        "    for vl in vls:\n",
        "        re.append(list(vl))\n",
        "    for t in re :\n",
        "        if t[0]<minx :\n",
        "           minx = t[0]\n",
        "        if t[1]<minx :\n",
        "           miny = t[1] \n",
        "    return (minx,miny)"
      ],
      "metadata": {
        "id": "z9nbAl70cm7l"
      },
      "execution_count": 111,
      "outputs": []
    },
    {
      "cell_type": "code",
      "source": [
        "def plot_kirchoffgraph(kg):\n",
        "    pos = nx.spring_layout(kg)\n",
        "    nx.draw(kg, pos, with_labels=True, node_color='#FF0000')\n",
        "    edge_labels = nx.get_edge_attributes(kg,'whole')\n",
        "    nx.draw_networkx_edge_labels(kg, pos, edge_labels)\n",
        "    st = 'suggested_dir: ' + '\\n' + sug_dir_for_printing(nx.get_edge_attributes(kg,'suggested_dir').values())\n",
        "    textpos = pos_for_printing_sth(pos)\n",
        "    plt.text(textpos[0]-0.5, textpos[1]-0.5, st)\n",
        "    plt.show()"
      ],
      "metadata": {
        "id": "cMgNBqc6Jvqw"
      },
      "execution_count": 131,
      "outputs": []
    },
    {
      "cell_type": "code",
      "source": [
        "def plot_solution_of_ord_kirchoffgraph(kg):\n",
        "    edw = find_kg_edges_weights_ord(kg)\n",
        "    edw = round_kg_edges_weights(edw)\n",
        "    sugdir = nx.get_edge_attributes(kg,'suggested_dir').values()\n",
        "    dkg = nx.DiGraph()\n",
        "    i = 0\n",
        "    for element in sugdir:\n",
        "        if edw[i][0] > 0 :\n",
        "           dkg.add_weighted_edges_from([(element[0], element[1], edw[i][0])])\n",
        "        else :\n",
        "           dkg.add_weighted_edges_from([(element[1], element[0], -edw[i][0])])\n",
        "        i = i + 1\n",
        "    pos = nx.spring_layout(dkg)\n",
        "    nx.draw(dkg, pos, with_labels=True, node_color='#00FF00')\n",
        "    edge_labels = nx.get_edge_attributes(dkg,'weight')\n",
        "    nx.draw_networkx_edge_labels(dkg, pos, edge_labels)\n",
        "    plt.show()"
      ],
      "metadata": {
        "id": "uFvMG1RaJ1Qu"
      },
      "execution_count": 135,
      "outputs": []
    },
    {
      "cell_type": "code",
      "source": [
        "def plot_solution_of_lin_kirchoffgraph(kg):\n",
        "    X,answ = find_kg_edges_weights_RC_and_RL(kg)\n",
        "    l = find_variable_edge_index(answ)\n",
        "    Y = [[1]]\n",
        "    solve_matrix_eq(X,Y,l)\n",
        "    print(find_other_edge_weight(l,answ))"
      ],
      "metadata": {
        "id": "115TJQLl7N6s"
      },
      "execution_count": 136,
      "outputs": []
    },
    {
      "cell_type": "code",
      "source": [
        "def plot_kirchoffgraph_after_solving(kg):\n",
        "    cirtyp = circuit_type(kg)\n",
        "    if cirtyp == 'RC' or cirtyp == 'RL' :\n",
        "       plot_solution_of_lin_kirchoffgraph(kg)\n",
        "    elif cirtyp == 'Ordinary' : \n",
        "         plot_solution_of_ord_kirchoffgraph(kg)\n",
        "    else :\n",
        "      # it should be RLC doesnt developed yet\n",
        "        print('RLC circuit analysis still is underdevelopment')"
      ],
      "metadata": {
        "id": "Q19LqNKc7owL"
      },
      "execution_count": 51,
      "outputs": []
    },
    {
      "cell_type": "code",
      "source": [
        "kg5 = circuit_parser('circuit1.txt')\n",
        "plot_kirchoffgraph(kg5)"
      ],
      "metadata": {
        "colab": {
          "base_uri": "https://localhost:8080/",
          "height": 355
        },
        "id": "nvFcpQDiJ6X_",
        "outputId": "994100e9-9568-40bf-e74e-5abc7fa041ee"
      },
      "execution_count": 133,
      "outputs": [
        {
          "output_type": "display_data",
          "data": {
            "text/plain": [
              "<Figure size 432x288 with 1 Axes>"
            ],
            "image/png": "[encoded data removed]"
          },
          "metadata": {}
        }
      ]
    },
    {
      "cell_type": "code",
      "source": [
        "plot_kirchoffgraph_after_solving(kg5)"
      ],
      "metadata": {
        "colab": {
          "base_uri": "https://localhost:8080/",
          "height": 319
        },
        "id": "RVjeshcCr_jQ",
        "outputId": "a9cf708b-a664-49dc-9ec1-451f673ffae7"
      },
      "execution_count": 137,
      "outputs": [
        {
          "output_type": "display_data",
          "data": {
            "text/plain": [
              "<Figure size 432x288 with 1 Axes>"
            ],
            "image/png": "[encoded data removed]"
          },
          "metadata": {}
        }
      ]
    }
  ]
}