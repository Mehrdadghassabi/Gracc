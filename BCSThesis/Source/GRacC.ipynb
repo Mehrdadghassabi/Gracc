{
  "nbformat": 4,
  "nbformat_minor": 0,
  "metadata": {
    "colab": {
      "name": "Untitled20.ipynb",
      "provenance": []
    },
    "kernelspec": {
      "name": "python3",
      "display_name": "Python 3"
    },
    "language_info": {
      "name": "python"
    }
  },
  "cells": [
    {
      "cell_type": "code",
      "execution_count": 1,
      "metadata": {
        "colab": {
          "base_uri": "https://localhost:8080/"
        },
        "id": "ALqeKW3vhm2r",
        "outputId": "e3b23352-99bd-47d9-97cd-87e848a6bf48"
      },
      "outputs": [
        {
          "output_type": "stream",
          "name": "stdout",
          "text": [
            "Looking in indexes: https://pypi.org/simple, https://us-python.pkg.dev/colab-wheels/public/simple/\n",
            "Requirement already satisfied: numpy in /usr/local/lib/python3.7/dist-packages (1.21.6)\n",
            "--2022-07-14 17:50:35--  https://raw.githubusercontent.com/Mehrdadghassabi/Gracc/master/BCSThesis/Source/circuits/circuit1.txt\n",
            "Resolving raw.githubusercontent.com (raw.githubusercontent.com)... 185.199.108.133, 185.199.109.133, 185.199.110.133, ...\n",
            "Connecting to raw.githubusercontent.com (raw.githubusercontent.com)|185.199.108.133|:443... connected.\n",
            "HTTP request sent, awaiting response... 200 OK\n",
            "Length: 69 [text/plain]\n",
            "Saving to: ‘circuit1.txt’\n",
            "\n",
            "circuit1.txt        100%[===================>]      69  --.-KB/s    in 0s      \n",
            "\n",
            "2022-07-14 17:50:35 (2.46 MB/s) - ‘circuit1.txt’ saved [69/69]\n",
            "\n"
          ]
        }
      ],
      "source": [
        "!pip install numpy\n",
        "!wget https://raw.githubusercontent.com/Mehrdadghassabi/Gracc/master/BCSThesis/Source/circuits/circuit1.txt"
      ]
    },
    {
      "cell_type": "code",
      "source": [
        "from scipy.sparse import csr_matrix\n",
        "from scipy.sparse.csgraph import minimum_spanning_tree\n",
        "import numpy as np"
      ],
      "metadata": {
        "id": "_k0AsND5hymf"
      },
      "execution_count": 2,
      "outputs": []
    },
    {
      "cell_type": "code",
      "source": [
        "# this function get the example circuit information\n",
        "# from .txt file by parsing it\n",
        "# \n",
        "# returns an array which contains\n",
        "#   [nodesnumber ,\n",
        "#    edgesnumber ,\n",
        "#    array containing resistors of each edge ,\n",
        "#    array containing batterys vlotage of each edge ,\n",
        "#    array containing capacitors of each edge ,\n",
        "#    array containing selves of each edge &\n",
        "#    Kirchoff graph adjacency matrix]\n",
        "def parsing_cicuit(circ):\n",
        "     nodesnumber = 0\n",
        "     edgesnumber = 0\n",
        "     resistors = np.zeros((6), dtype=int)\n",
        "     batterys = np.zeros((6), dtype=int)\n",
        "     capacitors = np.zeros((6), dtype=int)\n",
        "     selves = np.zeros((6), dtype=int)\n",
        "     i = 0\n",
        "     # i is the loop variable\n",
        "     with open(circ) as f:\n",
        "         for line in f:\n",
        "            # for each line in the .txt file get the line number i\n",
        "            omitnewlines = line.replace('\\n', '')\n",
        "            # remove newlines\n",
        "            arrstr = omitnewlines.split(\" \")\n",
        "            arrint = [int(numeric_string) for numeric_string in arrstr]\n",
        "            # in each lines there are some numbers\n",
        "            # convert the line which is a string to array of numbers\n",
        "            if i == 0 :\n",
        "              # if its the first line it determines \n",
        "              # number of nodes & edges\n",
        "              nodesnumber = arrint[0]\n",
        "              edgesnumber = arrint[1]\n",
        "              adjacencymatrix = np.zeros([nodesnumber,nodesnumber], dtype=int)\n",
        "            else :\n",
        "              # else it means that this line is an information about an edge\n",
        "              # the origin and the destanation node\n",
        "              # & information that an edge contains\n",
        "              xmat = arrint[0]\n",
        "              ymat = arrint[1]\n",
        "              adjacencymatrix[xmat][ymat] = 1\n",
        "              resistors[i-1] = arrint[2]\n",
        "              batterys[i-1] = arrint[3]\n",
        "              capacitors[i-1] = arrint[4]\n",
        "              selves[i-1] = arrint[5]\n",
        "            i = i + 1\n",
        "     # return them as an array ! !!\n",
        "     circ = [nodesnumber,edgesnumber,resistors,batterys,\n",
        "             capacitors,selves,adjacencymatrix]\n",
        "\n",
        "     return circ"
      ],
      "metadata": {
        "id": "NgKjmjwCh0L4"
      },
      "execution_count": 3,
      "outputs": []
    },
    {
      "cell_type": "code",
      "source": [
        "# function to caculate minimum spaning tree of graph (thanks to scipy)\n",
        "# takes kirchoff graph adjacencymatrix (kgam) as input\n",
        "# returns minimum spanning tree adjacencymatrix of the mentioned graph\n",
        "def mst(kgam):\n",
        "    return minimum_spanning_tree(kgam).toarray().astype(int)"
      ],
      "metadata": {
        "id": "xW1X5aR6h4Mf"
      },
      "execution_count": 4,
      "outputs": []
    },
    {
      "cell_type": "code",
      "source": [
        "# this matrix takes kirchoff graph & minimum spaning tree\n",
        "# and returns edges that eliminated \n",
        "# from kirchoff graph to build minimum spaning tree\n",
        "#\n",
        "# minimum spaning tree + eliminated edges = kirchoff graph \n",
        "def Eliminated_Edges(kg,mst):\n",
        "    nodesnumber = len(kg)\n",
        "    l = []\n",
        "    for i in range(nodesnumber):\n",
        "       for j in range(nodesnumber):\n",
        "           if kg[i][j] == 1 and mst[i][j]== 0 :\n",
        "              l.append([i,j])\n",
        "    return np.array(l)"
      ],
      "metadata": {
        "id": "we0Cirk2jGtm"
      },
      "execution_count": 19,
      "outputs": []
    },
    {
      "cell_type": "code",
      "source": [
        "circuit1 = parsing_cicuit('circuit1.txt')\n",
        "kgmst = mst(circuit1[6])\n",
        "# print(kgmst)\n",
        "\n",
        "print(Eliminated_Edges(circuit1[6],kgmst))"
      ],
      "metadata": {
        "colab": {
          "base_uri": "https://localhost:8080/"
        },
        "id": "0vryHbAyh8nw",
        "outputId": "adf9ef8c-84bd-4a32-ac2b-87977f8cfbe0"
      },
      "execution_count": 21,
      "outputs": [
        {
          "output_type": "stream",
          "name": "stdout",
          "text": [
            "[[1 2]\n",
            " [1 3]]\n"
          ]
        }
      ]
    }
  ]
}