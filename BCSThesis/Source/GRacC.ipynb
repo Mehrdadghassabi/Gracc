{
  "nbformat": 4,
  "nbformat_minor": 0,
  "metadata": {
    "colab": {
      "name": "Untitled20.ipynb",
      "provenance": []
    },
    "kernelspec": {
      "name": "python3",
      "display_name": "Python 3"
    },
    "language_info": {
      "name": "python"
    }
  },
  "cells": [
    {
      "cell_type": "code",
      "execution_count": 43,
      "metadata": {
        "colab": {
          "base_uri": "https://localhost:8080/"
        },
        "id": "ALqeKW3vhm2r",
        "outputId": "c5d2b85e-765b-4b56-daff-39d5faebf326"
      },
      "outputs": [
        {
          "output_type": "stream",
          "name": "stdout",
          "text": [
            "--2022-07-16 07:53:48--  https://raw.githubusercontent.com/Mehrdadghassabi/Gracc/master/BCSThesis/Source/circuits/circuit1.txt\n",
            "Resolving raw.githubusercontent.com (raw.githubusercontent.com)... 185.199.108.133, 185.199.109.133, 185.199.110.133, ...\n",
            "Connecting to raw.githubusercontent.com (raw.githubusercontent.com)|185.199.108.133|:443... connected.\n",
            "HTTP request sent, awaiting response... 200 OK\n",
            "Length: 69 [text/plain]\n",
            "Saving to: ‘circuit1.txt.1’\n",
            "\n",
            "\rcircuit1.txt.1        0%[                    ]       0  --.-KB/s               \rcircuit1.txt.1      100%[===================>]      69  --.-KB/s    in 0s      \n",
            "\n",
            "2022-07-16 07:53:48 (2.07 MB/s) - ‘circuit1.txt.1’ saved [69/69]\n",
            "\n"
          ]
        }
      ],
      "source": [
        "!wget https://raw.githubusercontent.com/Mehrdadghassabi/Gracc/master/BCSThesis/Source/circuits/circuit1.txt"
      ]
    },
    {
      "cell_type": "code",
      "source": [
        "import networkx as nx\n",
        "import numpy as np\n",
        "import pandas as pd"
      ],
      "metadata": {
        "id": "_k0AsND5hymf"
      },
      "execution_count": 23,
      "outputs": []
    },
    {
      "cell_type": "code",
      "source": [
        "# this function get the example circuit information\n",
        "# from .txt file by parsing it\n",
        "# \n",
        "# returns an array which contains\n",
        "#   [nodesnumber ,\n",
        "#    edgesnumber ,\n",
        "#    array containing resistors of each edge ,\n",
        "#    array containing batterys vlotage of each edge ,\n",
        "#    array containing capacitors of each edge ,\n",
        "#    array containing selves of each edge &\n",
        "#    Kirchoff graph adjacency matrix]\n",
        "def parsing_cicuit(circ):\n",
        "     nodesnumber = 0\n",
        "     edgesnumber = 0\n",
        "     kgatt = {}\n",
        "     i = 0\n",
        "     # i is the loop variable\n",
        "     with open(circ) as f:\n",
        "         for line in f:\n",
        "            # for each line in the .txt file get the line number i\n",
        "            omitnewlines = line.replace('\\n', '')\n",
        "            # remove newlines\n",
        "            arrstr = omitnewlines.split(\" \")\n",
        "            arrint = [int(numeric_string) for numeric_string in arrstr]\n",
        "            # in each lines there are some numbers\n",
        "            # convert the line which is a string to array of numbers\n",
        "            if i == 0 :\n",
        "              # if its the first line it determines \n",
        "              # number of nodes & edges\n",
        "              nodesnumber = arrint[0]\n",
        "              edgesnumber = arrint[1]\n",
        "              adjacencymatrix = np.zeros([nodesnumber,nodesnumber], dtype=int)\n",
        "            else :\n",
        "              # else it means that this line is an information about an edge\n",
        "              # the origin and the destanation node\n",
        "              # & information that an edge contains\n",
        "              xmat = arrint[0]\n",
        "              ymat = arrint[1]\n",
        "\n",
        "              Coord = (xmat,ymat)\n",
        "              adjacencymatrix[xmat][ymat] = 1\n",
        "   \n",
        "              att_of_edge = {}\n",
        "              att_of_edge['resistor'] = arrint[2]\n",
        "              att_of_edge['battery'] = arrint[3]\n",
        "              att_of_edge['capacitor'] = arrint[4]\n",
        "              att_of_edge['self'] = arrint[5]\n",
        "\n",
        "              kgatt[Coord] = att_of_edge\n",
        "\n",
        "    \n",
        "            i = i + 1\n",
        "     # return them as an array ! !!\n",
        "     circ = [nodesnumber,edgesnumber,adjacencymatrix,kgatt]\n",
        "     return circ"
      ],
      "metadata": {
        "id": "NgKjmjwCh0L4"
      },
      "execution_count": 33,
      "outputs": []
    },
    {
      "cell_type": "code",
      "source": [
        "# this function get kirchoff graph adjacency matrix\n",
        "# and simply return the kirchoff graph\n",
        "def get_kg(kgam,kgatt):\n",
        "    df = pd.DataFrame(kgam)\n",
        "    kg = nx.from_pandas_adjacency(df)\n",
        "    nx.set_edge_attributes(kg, kgatt)\n",
        "    return kg"
      ],
      "metadata": {
        "id": "go2ngaHPMaCi"
      },
      "execution_count": 25,
      "outputs": []
    },
    {
      "cell_type": "code",
      "source": [
        "# this function takes kirchoff graph & minimum spaning tree\n",
        "# and returns edges that eliminated \n",
        "# from kirchoff graph to build its minimum spaning tree\n",
        "#\n",
        "# kirchoff graph minimum spaning tree + eliminated edges = kirchoff graph \n",
        "def Eliminated_Edges(kgam,kgmstam):\n",
        "    nodesnumber = len(kgam)\n",
        "    l = []\n",
        "    for i in range(nodesnumber):\n",
        "       for j in range(nodesnumber):\n",
        "           if kgam[i][j] == 1 and kgmstam[i][j]== 0 :\n",
        "              if [j,i] not in l :\n",
        "                 l.append([i,j])\n",
        "    return np.array(l)"
      ],
      "metadata": {
        "id": "we0Cirk2jGtm"
      },
      "execution_count": 26,
      "outputs": []
    },
    {
      "cell_type": "code",
      "source": [
        "# by removing some edges from kirchoff graph\n",
        "# we calculated minimum spaning tree\n",
        "# for finding fundemental cycles of kirchoff graph\n",
        "# we need to restore eliminated edges one by one\n",
        "# and create list of graph (for more description read the doc)\n",
        "# \n",
        "# this function takes minimum spaning tree (kgmst)\n",
        "#  & eliminated edges as input\n",
        "# and return the list that mentioned above\n",
        "def graph_list(kgmstam,eled):\n",
        "    i = 0\n",
        "    glam = np.zeros([len(eled),len(kgmstam),len(kgmstam)], dtype=int)\n",
        "    gl = []\n",
        "    for edge in eled :\n",
        "        glam[i] = kgmstam\n",
        "        glam[i][edge[0]][edge[1]] = 1\n",
        "        glam[i][edge[1]][edge[0]] = 1\n",
        "        i = i + 1\n",
        "    for am in glam :\n",
        "        df = pd.DataFrame(am)\n",
        "        g = nx.from_pandas_adjacency(df)\n",
        "        gl.append(g)\n",
        "    return gl\n",
        "        "
      ],
      "metadata": {
        "id": "4Mu7yGCVN7TH"
      },
      "execution_count": 27,
      "outputs": []
    },
    {
      "cell_type": "code",
      "source": [
        "# this function get graph list as input\n",
        "# and returns kirchoff graph fundamental cycles as list\n",
        "def find_fundamental_cycles(gl) :\n",
        "    fcl = []\n",
        "    for g in gl :\n",
        "        try:\n",
        "           fcl.append(nx.find_cycle(g, orientation=\"ignore\"))\n",
        "        except nx.exception.NetworkXNoCycle:\n",
        "           continue\n",
        "    return fcl\n"
      ],
      "metadata": {
        "id": "M2vcVJA_ibsG"
      },
      "execution_count": 28,
      "outputs": []
    },
    {
      "cell_type": "code",
      "source": [
        "circuit1 = parsing_cicuit('citcuit2.txt')\n",
        "nodesnumber =  circuit1[0]\n",
        "edgesnumber =  circuit1[1]\n",
        "kgam = circuit1[2]\n",
        "kgat = circuit1[3]\n",
        "kg = get_kg(kgam,kgat)\n",
        "kgmst = nx.minimum_spanning_tree(kg)\n",
        "kgmstam = nx.to_numpy_array(kgmst).astype(int)\n",
        "eled = Eliminated_Edges(kgam,kgmstam)\n",
        "gl = graph_list(kgmstam,eled)\n",
        "fcl = find_fundamental_cycles(gl)"
      ],
      "metadata": {
        "id": "IfGUkunVTv-y"
      },
      "execution_count": 42,
      "outputs": []
    }
  ]
}