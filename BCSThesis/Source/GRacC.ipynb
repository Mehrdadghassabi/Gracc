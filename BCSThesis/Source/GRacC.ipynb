{
  "nbformat": 4,
  "nbformat_minor": 0,
  "metadata": {
    "colab": {
      "name": "Untitled22.ipynb",
      "provenance": []
    },
    "kernelspec": {
      "name": "python3",
      "display_name": "Python 3"
    },
    "language_info": {
      "name": "python"
    }
  },
  "cells": [
    {
      "cell_type": "code",
      "execution_count": 1,
      "metadata": {
        "colab": {
          "base_uri": "https://localhost:8080/"
        },
        "id": "TD120WyqILQy",
        "outputId": "4835d335-3b89-469f-ee33-3ca32cce2044"
      },
      "outputs": [
        {
          "output_type": "stream",
          "name": "stdout",
          "text": [
            "--2022-07-28 13:40:23--  https://raw.githubusercontent.com/Mehrdadghassabi/Gracc/master/BCSThesis/Source/circuits/circuit1.txt\n",
            "Resolving raw.githubusercontent.com (raw.githubusercontent.com)... 185.199.109.133, 185.199.110.133, 185.199.108.133, ...\n",
            "Connecting to raw.githubusercontent.com (raw.githubusercontent.com)|185.199.109.133|:443... connected.\n",
            "HTTP request sent, awaiting response... 200 OK\n",
            "Length: 71 [text/plain]\n",
            "Saving to: ‘circuit1.txt’\n",
            "\n",
            "\rcircuit1.txt          0%[                    ]       0  --.-KB/s               \rcircuit1.txt        100%[===================>]      71  --.-KB/s    in 0s      \n",
            "\n",
            "2022-07-28 13:40:23 (3.53 MB/s) - ‘circuit1.txt’ saved [71/71]\n",
            "\n",
            "--2022-07-28 13:40:23--  https://raw.githubusercontent.com/Mehrdadghassabi/Gracc/master/BCSThesis/Source/circuits/circuit2.txt\n",
            "Resolving raw.githubusercontent.com (raw.githubusercontent.com)... 185.199.108.133, 185.199.109.133, 185.199.110.133, ...\n",
            "Connecting to raw.githubusercontent.com (raw.githubusercontent.com)|185.199.108.133|:443... connected.\n",
            "HTTP request sent, awaiting response... 200 OK\n",
            "Length: 94 [text/plain]\n",
            "Saving to: ‘circuit2.txt’\n",
            "\n",
            "circuit2.txt        100%[===================>]      94  --.-KB/s    in 0s      \n",
            "\n",
            "2022-07-28 13:40:23 (2.74 MB/s) - ‘circuit2.txt’ saved [94/94]\n",
            "\n",
            "--2022-07-28 13:40:23--  https://raw.githubusercontent.com/Mehrdadghassabi/Gracc/master/BCSThesis/Source/circuits/circuit3.txt\n",
            "Resolving raw.githubusercontent.com (raw.githubusercontent.com)... 185.199.108.133, 185.199.109.133, 185.199.110.133, ...\n",
            "Connecting to raw.githubusercontent.com (raw.githubusercontent.com)|185.199.108.133|:443... connected.\n",
            "HTTP request sent, awaiting response... 200 OK\n",
            "Length: 65 [text/plain]\n",
            "Saving to: ‘circuit3.txt’\n",
            "\n",
            "circuit3.txt        100%[===================>]      65  --.-KB/s    in 0s      \n",
            "\n",
            "2022-07-28 13:40:23 (4.12 MB/s) - ‘circuit3.txt’ saved [65/65]\n",
            "\n",
            "Looking in indexes: https://pypi.org/simple, https://us-python.pkg.dev/colab-wheels/public/simple/\n",
            "Collecting odeintw\n",
            "  Downloading odeintw-0.1.1-py3-none-any.whl (7.6 kB)\n",
            "Requirement already satisfied: scipy in /usr/local/lib/python3.7/dist-packages (from odeintw) (1.7.3)\n",
            "Requirement already satisfied: numpy<1.23.0,>=1.16.5 in /usr/local/lib/python3.7/dist-packages (from scipy->odeintw) (1.21.6)\n",
            "Installing collected packages: odeintw\n",
            "Successfully installed odeintw-0.1.1\n"
          ]
        }
      ],
      "source": [
        "!wget https://raw.githubusercontent.com/Mehrdadghassabi/Gracc/master/BCSThesis/Source/circuits/circuit1.txt\n",
        "!wget https://raw.githubusercontent.com/Mehrdadghassabi/Gracc/master/BCSThesis/Source/circuits/circuit2.txt\n",
        "!wget https://raw.githubusercontent.com/Mehrdadghassabi/Gracc/master/BCSThesis/Source/circuits/circuit3.txt\n",
        "!pip3 install odeintw"
      ]
    },
    {
      "cell_type": "code",
      "source": [
        "import networkx as nx\n",
        "import numpy as np\n",
        "import pandas as pd\n",
        "from scipy import linalg\n",
        "import matplotlib.pyplot as plt\n",
        "import random as rm\n",
        "import odeintw as ow"
      ],
      "metadata": {
        "id": "SVUEjbvZJKGt"
      },
      "execution_count": 2,
      "outputs": []
    },
    {
      "cell_type": "code",
      "source": [
        "def str_on_edge(a,b,c,d):\n",
        "    s = ''\n",
        "    if not a == 0 :\n",
        "       s = s + str(a) + 'Ohms '\n",
        "    if not b == 0 :\n",
        "       s = s + str(b) + 'Volts '\n",
        "    if not c == 0 :\n",
        "       s = s + str(c) + 'Farad '\n",
        "    if not d == 0 :\n",
        "       s = s + str(d) + 'Henry '\n",
        "    return s"
      ],
      "metadata": {
        "id": "R1yoy315I9-4"
      },
      "execution_count": 3,
      "outputs": []
    },
    {
      "cell_type": "code",
      "source": [
        "def print_sug_dir(vals):\n",
        "    for val in vals :\n",
        "        s = '[' + str(val[0]) + ']' + '---->' + '[' + str(val[1]) + ']'\n",
        "        print(s)"
      ],
      "metadata": {
        "id": "9zdytt4CJEKo"
      },
      "execution_count": 4,
      "outputs": []
    },
    {
      "cell_type": "code",
      "source": [
        "# this function get the example circuit information\n",
        "# from .txt file by parsing it\n",
        "# \n",
        "# returns kirchoff graph as the result\n",
        "def circuit_parser(circ):\n",
        "     nodesnumber = 0\n",
        "     edgesnumber = 0\n",
        "     kgedgatt = {}\n",
        "     kgnodatt = {}\n",
        "     i = 0\n",
        "     # i is the loop variable\n",
        "     with open(circ) as f:\n",
        "         for line in f:\n",
        "            # for each line in the .txt file get the line number i\n",
        "            omitnewlines = line.replace('\\n', '')\n",
        "            # remove newlines\n",
        "            arrstr = omitnewlines.split(\" \")\n",
        "            arrnum = [float(numeric_string) for numeric_string in arrstr]\n",
        "            # in each lines there are some numbers\n",
        "            # convert the line which is a string to array of numbers\n",
        "            if i == 0 :\n",
        "              # if its the first line it determines \n",
        "              # number of nodes & edges\n",
        "              nodesnumber = int(arrnum[0])\n",
        "              edgesnumber = int(arrnum[1])\n",
        "              kgam = np.zeros([nodesnumber,nodesnumber], dtype=float)\n",
        "            else :\n",
        "              # else it means that this line is an information about an edge\n",
        "              # the origin and the destanation node\n",
        "              # & information that an edge contains\n",
        "              xmat = int(arrnum[0])\n",
        "              ymat = int(arrnum[1])\n",
        "\n",
        "              Coord = (xmat,ymat)\n",
        "              kgam[xmat][ymat] = 1\n",
        "   \n",
        "              att_of_edge = {}\n",
        "              att_of_edge['resistor'] = arrnum[2]\n",
        "              att_of_edge['battery'] = arrnum[3]\n",
        "              att_of_edge['capacitor'] = arrnum[4]\n",
        "              att_of_edge['self'] = arrnum[5]\n",
        "              att_of_edge['suggested_dir'] = Coord\n",
        "              att_of_edge['whole'] = str_on_edge(arrnum[2],arrnum[3],\n",
        "                                                 arrnum[4],arrnum[5])\n",
        "\n",
        "              kgedgatt[Coord] = att_of_edge\n",
        "            i = i + 1\n",
        "     df = pd.DataFrame(kgam)\n",
        "     kg = nx.from_pandas_adjacency(df)\n",
        "     nx.set_edge_attributes(kg, kgedgatt)\n",
        "     return kg"
      ],
      "metadata": {
        "id": "lyRTZoavI5pC"
      },
      "execution_count": 5,
      "outputs": []
    },
    {
      "cell_type": "code",
      "source": [
        "# this function takes kirchoff graph & minimum spaning tree\n",
        "# and returns edges that eliminated \n",
        "# from kirchoff graph to build its minimum spaning tree\n",
        "#\n",
        "# kirchoff graph minimum spaning tree + eliminated edges = kirchoff graph \n",
        "def Eliminated_Edges(kgam,kgmstam):\n",
        "    nodesnumber = len(kgam)\n",
        "    l = []\n",
        "    for i in range(nodesnumber):\n",
        "       for j in range(nodesnumber):\n",
        "           if kgam[i][j] == 1 and kgmstam[i][j]== 0 :\n",
        "              if [j,i] not in l :\n",
        "                 l.append([i,j])\n",
        "    return np.array(l)"
      ],
      "metadata": {
        "id": "K6tOK1p5I70B"
      },
      "execution_count": 6,
      "outputs": []
    },
    {
      "cell_type": "code",
      "source": [
        "# by removing some edges from kirchoff graph\n",
        "# we calculated minimum spaning tree\n",
        "# for finding fundemental cycles of kirchoff graph\n",
        "# we need to restore eliminated edges one by one\n",
        "# and create list of graph (for more description read the doc)\n",
        "# \n",
        "# this function takes minimum spaning tree (kgmst)\n",
        "#  & eliminated edges as input\n",
        "# and return the list that mentioned above\n",
        "def graph_list(kgmstam,eled):\n",
        "    i = 0\n",
        "    glam = np.zeros([len(eled),len(kgmstam),len(kgmstam)], dtype=int)\n",
        "    gl = []\n",
        "    for edge in eled :\n",
        "        glam[i] = kgmstam\n",
        "        glam[i][edge[0]][edge[1]] = 1\n",
        "        glam[i][edge[1]][edge[0]] = 1\n",
        "        i = i + 1\n",
        "    for am in glam :\n",
        "        df = pd.DataFrame(am)\n",
        "        g = nx.from_pandas_adjacency(df)\n",
        "        gl.append(g)\n",
        "    return gl\n",
        "        "
      ],
      "metadata": {
        "id": "Z3UH4IMEJXYI"
      },
      "execution_count": 7,
      "outputs": []
    },
    {
      "cell_type": "code",
      "source": [
        "# this function get graph list as input\n",
        "# and returns kirchoff graph fundamental cycles as list\n",
        "def find_fundamental_cycles(gl) :\n",
        "    fcl = []\n",
        "    for g in gl :\n",
        "        try:\n",
        "           fcl.append(nx.find_cycle(g, orientation=\"ignore\"))\n",
        "        except nx.exception.NetworkXNoCycle:\n",
        "           continue\n",
        "    return fcl"
      ],
      "metadata": {
        "id": "jD0NKXetJd46"
      },
      "execution_count": 8,
      "outputs": []
    },
    {
      "cell_type": "code",
      "source": [
        "def isstraight(org,dst,suggested_dir):\n",
        "    return (suggested_dir[0] == org) and (suggested_dir[1] == dst)"
      ],
      "metadata": {
        "id": "BcGWYR0LJh2R"
      },
      "execution_count": 9,
      "outputs": []
    },
    {
      "cell_type": "code",
      "source": [
        "def get_edge_number(kg,org,dst):\n",
        "    edges = kg.edges()\n",
        "    i = 0 \n",
        "    for edge in kg.edges():\n",
        "        c1 = edge[0] == org and edge[1] == dst\n",
        "        c2 = edge[1] == org and edge[0] == dst\n",
        "        if c1 or c2 :\n",
        "           return i\n",
        "        i = i + 1"
      ],
      "metadata": {
        "id": "m11n65kvJjrO"
      },
      "execution_count": 10,
      "outputs": []
    },
    {
      "cell_type": "code",
      "source": [
        "def find_kg_edges_weights(kg):\n",
        "    kgmst = nx.minimum_spanning_tree(kg)\n",
        "    kgmstam = nx.to_numpy_array(kgmst).astype(int)\n",
        "    kgam = nx.to_numpy_array(kg).astype(int)\n",
        "    eled = Eliminated_Edges(kgam,kgmstam)\n",
        "    gl = graph_list(kgmstam,eled)\n",
        "    fcl = find_fundamental_cycles(gl)\n",
        "    edge_number = kg.number_of_edges()\n",
        "    B = np.zeros([edge_number,1])\n",
        "    A = np.zeros([edge_number,edge_number])\n",
        "    i = 0\n",
        "    for cycle in fcl :\n",
        "        volsum = 0\n",
        "        res = 0\n",
        "        for edge in cycle :\n",
        "            org = edge[0]\n",
        "            dst = edge[1]\n",
        "            sugdir = kg.get_edge_data(org,dst)['suggested_dir']\n",
        "            if isstraight(org,dst,sugdir) :\n",
        "               volsum = volsum - kg.get_edge_data(org,dst)['battery']\n",
        "               res = -kg.get_edge_data(org,dst)['resistor']\n",
        "               cor = get_edge_number(kg,org,dst)\n",
        "               A[i][cor] = res\n",
        "            else :\n",
        "               volsum = volsum + kg.get_edge_data(org,dst)['battery']\n",
        "               res = +kg.get_edge_data(org,dst)['resistor']\n",
        "               cor = get_edge_number(kg,org,dst)\n",
        "               A[i][cor] = res\n",
        "        B[i][0]= volsum\n",
        "        i = i + 1\n",
        "    for node in kg.nodes :\n",
        "        for nei in kg.neighbors(node):\n",
        "            sugdir = kg.get_edge_data(node,nei)['suggested_dir']\n",
        "            inr = isstraight(node,nei,sugdir)\n",
        "            cor = get_edge_number(kg,node,nei)\n",
        "            if isstraight(node,nei,sugdir) :\n",
        "               A[i][cor] = -1\n",
        "            else :\n",
        "               A[i][cor] = 1\n",
        "        i = i + 1\n",
        "        if i == kg.number_of_edges():\n",
        "           break\n",
        "    return linalg.solve(A, B)"
      ],
      "metadata": {
        "id": "znJ-lMgmJqE-"
      },
      "execution_count": 11,
      "outputs": []
    },
    {
      "cell_type": "code",
      "source": [
        "def seperate_const_variable_cycle_and_lopp(kg):\n",
        "    kgmst = nx.minimum_spanning_tree(kg)\n",
        "    kgmstam = nx.to_numpy_array(kgmst).astype(int)\n",
        "    kgam = nx.to_numpy_array(kg).astype(int)\n",
        "    eled = Eliminated_Edges(kgam,kgmstam)\n",
        "    gl = graph_list(kgmstam,eled)\n",
        "    fcl = find_fundamental_cycles(gl)\n",
        "    edge_number = kg.number_of_edges()\n",
        "    variable_weight_edge = []\n",
        "    const_weight_edge = []\n",
        "    const_weight_cycle = []\n",
        "    variable_weight_cycle = []\n",
        "    i = 0\n",
        "    for cycle in fcl :\n",
        "        volsum = 0\n",
        "        res = 0\n",
        "        varicyc = False\n",
        "        for edge in cycle :\n",
        "            org = edge[0]\n",
        "            dst = edge[1]\n",
        "            sugdir = kg.get_edge_data(org,dst)['suggested_dir']\n",
        "            cap = kg.get_edge_data(org,dst)['capacitor']\n",
        "            if isstraight(org,dst,sugdir) :\n",
        "               cap = kg.get_edge_data(org,dst)['capacitor']\n",
        "               if cap == 0 :\n",
        "                  t = (org,dst)\n",
        "                  if not t in const_weight_edge:\n",
        "                     const_weight_edge.append(t)\n",
        "               else :\n",
        "                  varicyc = True\n",
        "                  t = (org,dst)\n",
        "                  if not t in variable_weight_edge :\n",
        "                     variable_weight_edge.append(t)\n",
        "            else :\n",
        "               cap = kg.get_edge_data(org,dst)['capacitor']\n",
        "               if cap == 0 :\n",
        "                  t = (dst,org)\n",
        "                  if not t in const_weight_edge:\n",
        "                     const_weight_edge.append(t)\n",
        "               else :\n",
        "                  varicyc = True\n",
        "                  t = (org,dst)\n",
        "                  if not t in variable_weight_edge :\n",
        "                     variable_weight_edge.append(t)\n",
        "        if varicyc :\n",
        "           variable_weight_cycle.append(cycle)\n",
        "        else :\n",
        "           const_weight_cycle.append(cycle)\n",
        "          \n",
        "          \n",
        "    return variable_weight_edge,const_weight_edge,const_weight_cycle,variable_weight_cycle"
      ],
      "metadata": {
        "id": "g3W6rPNfTeo7"
      },
      "execution_count": 50,
      "outputs": []
    },
    {
      "cell_type": "code",
      "source": [
        "kg3 = circuit_parser('circuit3.txt')\n",
        "seperate_const_variable_cycle_and_lopp(kg3)"
      ],
      "metadata": {
        "id": "caecNfoqKtE7",
        "outputId": "e9bb7caf-2dc4-4405-a789-e38f8d6e532c",
        "colab": {
          "base_uri": "https://localhost:8080/"
        }
      },
      "execution_count": 51,
      "outputs": [
        {
          "output_type": "execute_result",
          "data": {
            "text/plain": [
              "([(3, 0)],\n",
              " [(0, 1), (1, 2), (2, 0), (1, 3)],\n",
              " [[(0, 1, 'forward'), (1, 2, 'forward'), (2, 0, 'forward')]],\n",
              " [[(0, 1, 'forward'), (1, 3, 'forward'), (3, 0, 'forward')]])"
            ]
          },
          "metadata": {},
          "execution_count": 51
        }
      ]
    },
    {
      "cell_type": "code",
      "source": [
        "def round_kg_edges_weights(edw):\n",
        "    i = 0\n",
        "    for ele in edw:\n",
        "        edw[i][0] = round(edw[i][0],3)\n",
        "        i = i + 1\n",
        "    return edw"
      ],
      "metadata": {
        "id": "yAldKsW3JsNS"
      },
      "execution_count": 13,
      "outputs": []
    },
    {
      "cell_type": "code",
      "source": [
        "def plot_kirchoffgraph(kg):\n",
        "    pos = nx.spring_layout(kg)\n",
        "    nx.draw(kg, pos, with_labels=True, node_color='#FF0000')\n",
        "    edge_labels = nx.get_edge_attributes(kg,'whole')\n",
        "    nx.draw_networkx_edge_labels(kg, pos, edge_labels)\n",
        "    plt.show()\n",
        "    print('suggested_dir: ')\n",
        "    print_sug_dir(nx.get_edge_attributes(kg,'suggested_dir').values())"
      ],
      "metadata": {
        "id": "cMgNBqc6Jvqw"
      },
      "execution_count": 14,
      "outputs": []
    },
    {
      "cell_type": "code",
      "source": [
        "def plot_kirchoffgraph_after_solving(kg):\n",
        "    edw = find_kg_edges_weights(kg)\n",
        "    edw = round_kg_edges_weights(edw)\n",
        "    sugdir = nx.get_edge_attributes(kg,'suggested_dir').values()\n",
        "    dkg = nx.DiGraph()\n",
        "    i = 0\n",
        "    for element in sugdir:\n",
        "        if edw[i][0] > 0 :\n",
        "           dkg.add_weighted_edges_from([(element[0], element[1], edw[i][0])])\n",
        "        else :\n",
        "           dkg.add_weighted_edges_from([(element[1], element[0], -edw[i][0])])\n",
        "        i = i + 1\n",
        "    pos = nx.spring_layout(dkg)\n",
        "    nx.draw(dkg, pos, with_labels=True, node_color='#00FF00')\n",
        "    edge_labels = nx.get_edge_attributes(dkg,'weight')\n",
        "    nx.draw_networkx_edge_labels(dkg, pos, edge_labels)\n",
        "    plt.show()"
      ],
      "metadata": {
        "id": "uFvMG1RaJ1Qu"
      },
      "execution_count": 15,
      "outputs": []
    },
    {
      "cell_type": "code",
      "source": [
        "kg3 = circuit_parser('circuit3.txt')\n",
        "plot_kirchoffgraph(kg3)\n",
        "plot_kirchoffgraph_after_solving(kg3)"
      ],
      "metadata": {
        "colab": {
          "base_uri": "https://localhost:8080/",
          "height": 725
        },
        "id": "nvFcpQDiJ6X_",
        "outputId": "cc68a0c6-fa22-4106-d9e8-ef0833ff6689"
      },
      "execution_count": 16,
      "outputs": [
        {
          "output_type": "display_data",
          "data": {
            "text/plain": [
              "<Figure size 432x288 with 1 Axes>"
            ],
            "image/png": "[encoded data removed]"
          },
          "metadata": {}
        },
        {
          "output_type": "stream",
          "name": "stdout",
          "text": [
            "suggested_dir: \n",
            "[0]---->[1]\n",
            "[0]---->[3]\n",
            "[2]---->[0]\n",
            "[1]---->[2]\n",
            "[1]---->[3]\n"
          ]
        },
        {
          "output_type": "display_data",
          "data": {
            "text/plain": [
              "<Figure size 432x288 with 1 Axes>"
            ],
            "image/png": "[encoded data removed]"
          },
          "metadata": {}
        }
      ]
    },
    {
      "cell_type": "code",
      "source": [
        "def asys(a, t, c):\n",
        "    return c.dot(a)"
      ],
      "metadata": {
        "id": "ZnHGNOl7Sg3k"
      },
      "execution_count": 17,
      "outputs": []
    },
    {
      "cell_type": "code",
      "source": [
        "# ploting dX/dt = A * X answers\n",
        "# input X0,A\n",
        "def solve_matrix_eq(a,x0):\n",
        "    # a = np.array([[-0.5]])\n",
        "    n = len(a)\n",
        "    t = np.linspace(0, 10, 201)\n",
        "\n",
        "    # x0 is the initial condition.\n",
        "    # x0 = np.array([[7.0]])\n",
        "    \n",
        "    sol = ow.odeintw(asys, x0, t, args=(a,))\n",
        "\n",
        "    plt.figure(1)\n",
        "    plt.clf()\n",
        "    colorlist = []\n",
        "    for i in range(n):\n",
        "        c = (rm.uniform(0, 1),rm.uniform(0, 1),rm.uniform(0, 1))\n",
        "        l = 'x[0,' + str(i) + ']'\n",
        "        plt.plot(t, sol[:, 0, i], color = c, label=l)\n",
        "\n",
        "\n",
        "    plt.legend(loc='best')\n",
        "    plt.grid(True)\n",
        "    plt.show()"
      ],
      "metadata": {
        "id": "jjhiX_mJRTlP"
      },
      "execution_count": 18,
      "outputs": []
    },
    {
      "cell_type": "code",
      "source": [
        "solve_matrix_eq(np.array([[-0.5]]),np.array([[7.0]]))"
      ],
      "metadata": {
        "id": "7fK_M-cjRZ4L",
        "outputId": "a2b5fc0e-e97c-4d37-f005-598c9b1cd1e7",
        "colab": {
          "base_uri": "https://localhost:8080/",
          "height": 265
        }
      },
      "execution_count": 19,
      "outputs": [
        {
          "output_type": "display_data",
          "data": {
            "text/plain": [
              "<Figure size 432x288 with 1 Axes>"
            ],
            "image/png": "[encoded data removed]"
          },
          "metadata": {
            "needs_background": "light"
          }
        }
      ]
    },
    {
      "cell_type": "code",
      "source": [
        "def circuit_type(kg):\n",
        "    contain_self  = False\n",
        "    contain_capacitor = False\n",
        "    svals = nx.get_edge_attributes(kg3,'self').values()\n",
        "    cvals = nx.get_edge_attributes(kg3,'capacitor').values()\n",
        "    for sval in svals:\n",
        "        if not sval == 0 :\n",
        "           contain_self = True\n",
        "    for cval in cvals:\n",
        "        if not cval == 0 :\n",
        "           contain_capacitor = True\n",
        "    if not contain_self and not contain_capacitor :\n",
        "        return 'Ordinary'\n",
        "    if not contain_self and contain_capacitor :\n",
        "        return 'RC'\n",
        "    if contain_self and not contain_capacitor :\n",
        "        return 'RL'\n",
        "    if contain_self and contain_capacitor :\n",
        "        return 'RLC'"
      ],
      "metadata": {
        "id": "wlLk1dfs774S"
      },
      "execution_count": 20,
      "outputs": []
    },
    {
      "cell_type": "code",
      "source": [
        "circuit_type(kg3)"
      ],
      "metadata": {
        "id": "o5nf8rhC-NP-",
        "outputId": "79ac6e07-744d-4a5e-cd6d-95ec606db3d1",
        "colab": {
          "base_uri": "https://localhost:8080/",
          "height": 35
        }
      },
      "execution_count": 21,
      "outputs": [
        {
          "output_type": "execute_result",
          "data": {
            "text/plain": [
              "'RC'"
            ],
            "application/vnd.google.colaboratory.intrinsic+json": {
              "type": "string"
            }
          },
          "metadata": {},
          "execution_count": 21
        }
      ]
    }
  ]
}