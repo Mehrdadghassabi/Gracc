{
  "nbformat": 4,
  "nbformat_minor": 0,
  "metadata": {
    "colab": {
      "name": "Untitled21.ipynb",
      "provenance": []
    },
    "kernelspec": {
      "name": "python3",
      "display_name": "Python 3"
    },
    "language_info": {
      "name": "python"
    }
  },
  "cells": [
    {
      "cell_type": "code",
      "execution_count": 50,
      "metadata": {
        "colab": {
          "base_uri": "https://localhost:8080/"
        },
        "id": "k6uHfjT5Wki9",
        "outputId": "c74cc22d-4c95-4aaa-e2f7-e5ccb78a123b"
      },
      "outputs": [
        {
          "output_type": "stream",
          "name": "stdout",
          "text": [
            "--2022-07-21 06:18:08--  https://raw.githubusercontent.com/Mehrdadghassabi/Gracc/master/BCSThesis/Source/circuits/circuit1.txt\n",
            "Resolving raw.githubusercontent.com (raw.githubusercontent.com)... 185.199.108.133, 185.199.109.133, 185.199.110.133, ...\n",
            "Connecting to raw.githubusercontent.com (raw.githubusercontent.com)|185.199.108.133|:443... connected.\n",
            "HTTP request sent, awaiting response... 200 OK\n",
            "Length: 71 [text/plain]\n",
            "Saving to: ‘circuit1.txt.1’\n",
            "\n",
            "\rcircuit1.txt.1        0%[                    ]       0  --.-KB/s               \rcircuit1.txt.1      100%[===================>]      71  --.-KB/s    in 0s      \n",
            "\n",
            "2022-07-21 06:18:08 (3.15 MB/s) - ‘circuit1.txt.1’ saved [71/71]\n",
            "\n"
          ]
        }
      ],
      "source": [
        "!wget https://raw.githubusercontent.com/Mehrdadghassabi/Gracc/master/BCSThesis/Source/circuits/circuit1.txt"
      ]
    },
    {
      "cell_type": "code",
      "source": [
        "import networkx as nx\n",
        "import numpy as np\n",
        "import pandas as pd\n",
        "from scipy import linalg"
      ],
      "metadata": {
        "id": "ChTy6AXgXJXW"
      },
      "execution_count": 96,
      "outputs": []
    },
    {
      "cell_type": "code",
      "source": [
        "# this function get the example circuit information\n",
        "# from .txt file by parsing it\n",
        "# \n",
        "# returns kirchoff graph as the result\n",
        "def circuit_parser(circ):\n",
        "     nodesnumber = 0\n",
        "     edgesnumber = 0\n",
        "     kgatt = {}\n",
        "     i = 0\n",
        "     # i is the loop variable\n",
        "     with open(circ) as f:\n",
        "         for line in f:\n",
        "            # for each line in the .txt file get the line number i\n",
        "            omitnewlines = line.replace('\\n', '')\n",
        "            # remove newlines\n",
        "            arrstr = omitnewlines.split(\" \")\n",
        "            arrint = [int(numeric_string) for numeric_string in arrstr]\n",
        "            # in each lines there are some numbers\n",
        "            # convert the line which is a string to array of numbers\n",
        "            if i == 0 :\n",
        "              # if its the first line it determines \n",
        "              # number of nodes & edges\n",
        "              nodesnumber = arrint[0]\n",
        "              edgesnumber = arrint[1]\n",
        "              kgam = np.zeros([nodesnumber,nodesnumber], dtype=int)\n",
        "            else :\n",
        "              # else it means that this line is an information about an edge\n",
        "              # the origin and the destanation node\n",
        "              # & information that an edge contains\n",
        "              xmat = arrint[0]\n",
        "              ymat = arrint[1]\n",
        "\n",
        "              Coord = (xmat,ymat)\n",
        "              kgam[xmat][ymat] = 1\n",
        "   \n",
        "              att_of_edge = {}\n",
        "              att_of_edge['resistor'] = arrint[2]\n",
        "              att_of_edge['battery'] = arrint[3]\n",
        "              att_of_edge['capacitor'] = arrint[4]\n",
        "              att_of_edge['self'] = arrint[5]\n",
        "              att_of_edge['suggested_dir'] = Coord\n",
        "\n",
        "              kgatt[Coord] = att_of_edge\n",
        "\n",
        "    \n",
        "            i = i + 1\n",
        "     df = pd.DataFrame(kgam)\n",
        "     kg = nx.from_pandas_adjacency(df)\n",
        "     nx.set_edge_attributes(kg, kgatt)\n",
        "     return kg"
      ],
      "metadata": {
        "id": "3RLaDJTKXMIz"
      },
      "execution_count": 52,
      "outputs": []
    },
    {
      "cell_type": "code",
      "source": [
        "# this function takes kirchoff graph & minimum spaning tree\n",
        "# and returns edges that eliminated \n",
        "# from kirchoff graph to build its minimum spaning tree\n",
        "#\n",
        "# kirchoff graph minimum spaning tree + eliminated edges = kirchoff graph \n",
        "def Eliminated_Edges(kgam,kgmstam):\n",
        "    nodesnumber = len(kgam)\n",
        "    l = []\n",
        "    for i in range(nodesnumber):\n",
        "       for j in range(nodesnumber):\n",
        "           if kgam[i][j] == 1 and kgmstam[i][j]== 0 :\n",
        "              if [j,i] not in l :\n",
        "                 l.append([i,j])\n",
        "    return np.array(l)"
      ],
      "metadata": {
        "id": "zKAQjAloXbtL"
      },
      "execution_count": 53,
      "outputs": []
    },
    {
      "cell_type": "code",
      "source": [
        "# by removing some edges from kirchoff graph\n",
        "# we calculated minimum spaning tree\n",
        "# for finding fundemental cycles of kirchoff graph\n",
        "# we need to restore eliminated edges one by one\n",
        "# and create list of graph (for more description read the doc)\n",
        "# \n",
        "# this function takes minimum spaning tree (kgmst)\n",
        "#  & eliminated edges as input\n",
        "# and return the list that mentioned above\n",
        "def graph_list(kgmstam,eled):\n",
        "    i = 0\n",
        "    glam = np.zeros([len(eled),len(kgmstam),len(kgmstam)], dtype=int)\n",
        "    gl = []\n",
        "    for edge in eled :\n",
        "        glam[i] = kgmstam\n",
        "        glam[i][edge[0]][edge[1]] = 1\n",
        "        glam[i][edge[1]][edge[0]] = 1\n",
        "        i = i + 1\n",
        "    for am in glam :\n",
        "        df = pd.DataFrame(am)\n",
        "        g = nx.from_pandas_adjacency(df)\n",
        "        gl.append(g)\n",
        "    return gl\n",
        "        "
      ],
      "metadata": {
        "id": "18w5mXxyXeve"
      },
      "execution_count": 54,
      "outputs": []
    },
    {
      "cell_type": "code",
      "source": [
        "# this function get graph list as input\n",
        "# and returns kirchoff graph fundamental cycles as list\n",
        "def find_fundamental_cycles(gl) :\n",
        "    fcl = []\n",
        "    for g in gl :\n",
        "        try:\n",
        "           fcl.append(nx.find_cycle(g, orientation=\"ignore\"))\n",
        "        except nx.exception.NetworkXNoCycle:\n",
        "           continue\n",
        "    return fcl\n"
      ],
      "metadata": {
        "id": "Asy0gQT2Xggs"
      },
      "execution_count": 55,
      "outputs": []
    },
    {
      "cell_type": "code",
      "source": [
        "def isnotreverse(org,dst,suggested_dir):\n",
        "    return (suggested_dir[0] == org) and (suggested_dir[1] == dst)"
      ],
      "metadata": {
        "id": "_l6zHPjXXj6B"
      },
      "execution_count": 56,
      "outputs": []
    },
    {
      "cell_type": "code",
      "source": [
        "def get_A_coord(kg,org,dst):\n",
        "    edges = kg.edges()\n",
        "    i = 0 \n",
        "    for edge in kg.edges():\n",
        "        c1 = edge[0] == org and edge[1] == dst\n",
        "        c2 = edge[1] == org and edge[0] == dst\n",
        "        if c1 or c2 :\n",
        "           return i\n",
        "        i = i + 1\n",
        "    "
      ],
      "metadata": {
        "id": "0OCckwW8SXbX"
      },
      "execution_count": 57,
      "outputs": []
    },
    {
      "cell_type": "code",
      "source": [
        "def find_kg_edges_weights(kg):\n",
        "    kgmst = nx.minimum_spanning_tree(kg)\n",
        "    kgmstam = nx.to_numpy_array(kgmst).astype(int)\n",
        "    kgam = nx.to_numpy_array(kg).astype(int)\n",
        "    eled = Eliminated_Edges(kgam,kgmstam)\n",
        "    gl = graph_list(kgmstam,eled)\n",
        "    fcl = find_fundamental_cycles(gl)\n",
        "    edge_number = kg.number_of_edges()\n",
        "    B = np.zeros([edge_number,1])\n",
        "    A = np.zeros([edge_number,edge_number])\n",
        "    i = 0\n",
        "    for cycle in fcl :\n",
        "        volsum = 0\n",
        "        res = 0\n",
        "        for edge in cycle :\n",
        "            org = edge[0]\n",
        "            dst = edge[1]\n",
        "            sugdir = kg.get_edge_data(org,dst)['suggested_dir']\n",
        "            if isnotreverse(org,dst,sugdir) :\n",
        "               volsum = volsum - kg.get_edge_data(org,dst)['battery']\n",
        "               res = -kg.get_edge_data(org,dst)['resistor']\n",
        "               cor = get_A_coord(kg,org,dst)\n",
        "               A[i][cor] = res\n",
        "            else :\n",
        "               volsum = volsum + kg.get_edge_data(org,dst)['battery']\n",
        "               res = +kg.get_edge_data(org,dst)['resistor']\n",
        "               cor = get_A_coord(kg,org,dst)\n",
        "               A[i][cor] = res\n",
        "        B[i][0]= volsum\n",
        "        i = i + 1\n",
        "    for node in kg.nodes :\n",
        "        for nei in kg1.neighbors(node):\n",
        "            sugdir = kg.get_edge_data(node,nei)['suggested_dir']\n",
        "            inr = isnotreverse(node,nei,sugdir)\n",
        "            cor = get_A_coord(kg,node,nei)\n",
        "            if isnotreverse(node,nei,sugdir) :\n",
        "               A[i][cor] = -1\n",
        "            else :\n",
        "                 A[i][cor] = 1\n",
        "        i = i + 1\n",
        "        if i == kg1.number_of_edges():\n",
        "           break\n",
        "    return linalg.solve(A, B)"
      ],
      "metadata": {
        "id": "WxYv3W2CXodL"
      },
      "execution_count": 101,
      "outputs": []
    },
    {
      "cell_type": "code",
      "source": [
        "kg1 = circuit_parser('circuit1.txt')\n",
        "find_kg_edges_weights(kg1)"
      ],
      "metadata": {
        "colab": {
          "base_uri": "https://localhost:8080/"
        },
        "id": "ZR77ql6kZhTR",
        "outputId": "61f92b56-cb3f-4b86-fb05-3f296eff4386"
      },
      "execution_count": 102,
      "outputs": [
        {
          "output_type": "execute_result",
          "data": {
            "text/plain": [
              "array([[ 0.28571429],\n",
              "       [ 0.14285714],\n",
              "       [-0.42857143],\n",
              "       [-0.14285714],\n",
              "       [ 0.42857143]])"
            ]
          },
          "metadata": {},
          "execution_count": 102
        }
      ]
    }
  ]
}