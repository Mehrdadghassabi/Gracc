{
  "nbformat": 4,
  "nbformat_minor": 0,
  "metadata": {
    "colab": {
      "name": "Untitled21.ipynb",
      "provenance": []
    },
    "kernelspec": {
      "name": "python3",
      "display_name": "Python 3"
    },
    "language_info": {
      "name": "python"
    }
  },
  "cells": [
    {
      "cell_type": "code",
      "execution_count": 1,
      "metadata": {
        "colab": {
          "base_uri": "https://localhost:8080/"
        },
        "id": "k6uHfjT5Wki9",
        "outputId": "7df1773c-af56-428f-c412-184b3b6cce29"
      },
      "outputs": [
        {
          "output_type": "stream",
          "name": "stdout",
          "text": [
            "--2022-07-24 07:38:35--  https://raw.githubusercontent.com/Mehrdadghassabi/Gracc/master/BCSThesis/Source/circuits/circuit1.txt\n",
            "Resolving raw.githubusercontent.com (raw.githubusercontent.com)... 185.199.110.133, 185.199.109.133, 185.199.108.133, ...\n",
            "Connecting to raw.githubusercontent.com (raw.githubusercontent.com)|185.199.110.133|:443... connected.\n",
            "HTTP request sent, awaiting response... 200 OK\n",
            "Length: 71 [text/plain]\n",
            "Saving to: ‘circuit1.txt’\n",
            "\n",
            "\rcircuit1.txt          0%[                    ]       0  --.-KB/s               \rcircuit1.txt        100%[===================>]      71  --.-KB/s    in 0s      \n",
            "\n",
            "2022-07-24 07:38:35 (2.36 MB/s) - ‘circuit1.txt’ saved [71/71]\n",
            "\n",
            "--2022-07-24 07:38:35--  https://raw.githubusercontent.com/Mehrdadghassabi/Gracc/master/BCSThesis/Source/circuits/circuit2.txt\n",
            "Resolving raw.githubusercontent.com (raw.githubusercontent.com)... 185.199.108.133, 185.199.109.133, 185.199.110.133, ...\n",
            "Connecting to raw.githubusercontent.com (raw.githubusercontent.com)|185.199.108.133|:443... connected.\n",
            "HTTP request sent, awaiting response... 200 OK\n",
            "Length: 94 [text/plain]\n",
            "Saving to: ‘circuit2.txt’\n",
            "\n",
            "circuit2.txt        100%[===================>]      94  --.-KB/s    in 0s      \n",
            "\n",
            "2022-07-24 07:38:35 (5.38 MB/s) - ‘circuit2.txt’ saved [94/94]\n",
            "\n"
          ]
        }
      ],
      "source": [
        "!wget https://raw.githubusercontent.com/Mehrdadghassabi/Gracc/master/BCSThesis/Source/circuits/circuit1.txt\n",
        "!wget https://raw.githubusercontent.com/Mehrdadghassabi/Gracc/master/BCSThesis/Source/circuits/circuit2.txt"
      ]
    },
    {
      "cell_type": "code",
      "source": [
        "import networkx as nx\n",
        "import numpy as np\n",
        "import pandas as pd\n",
        "from scipy import linalg\n",
        "from scipy.integrate import odeint\n",
        "import matplotlib.pyplot as plt"
      ],
      "metadata": {
        "id": "ChTy6AXgXJXW"
      },
      "execution_count": 2,
      "outputs": []
    },
    {
      "cell_type": "code",
      "source": [
        "# with special thanks to https://github.com/WarrenWeckesser/odeintw\n",
        "# Tuple holding the major and minor versions of numpy.\n",
        "_NUMPY_VERSION = tuple(int(d) for d in np.__version__.split('.')[:2])\n",
        "\n",
        "if _NUMPY_VERSION >= (1, 7):\n",
        "    _astype_kwargs = {'copy': False}\n",
        "else:\n",
        "    _astype_kwargs = {}"
      ],
      "metadata": {
        "id": "38d29w3sHp-e"
      },
      "execution_count": 3,
      "outputs": []
    },
    {
      "cell_type": "code",
      "source": [
        "def _check_args(kwargs):\n",
        "    \"\"\"\n",
        "    Check for arguments that are not supported with array differential\n",
        "    equations.\n",
        "    \"\"\"\n",
        "    _unsupported_odeint_args = ['col_deriv', 'ml', 'mu']\n",
        "    bad_args = [arg for arg in kwargs if arg in _unsupported_odeint_args]\n",
        "    if len(bad_args) > 0:\n",
        "        raise ValueError(\"The odeint argument %r is not supported by \"\n",
        "                         \"odeintw for array differential equations.\" %\n",
        "                         (bad_args[0],))"
      ],
      "metadata": {
        "id": "JDXZA1wKIDru"
      },
      "execution_count": 4,
      "outputs": []
    },
    {
      "cell_type": "code",
      "source": [
        "def _float64_view_of_complex128(z):\n",
        "    return np.atleast_1d(z).astype(np.complex128).view(np.float64)"
      ],
      "metadata": {
        "id": "CshCYAJNIIXr"
      },
      "execution_count": 5,
      "outputs": []
    },
    {
      "cell_type": "code",
      "source": [
        "def _complex_to_real_jac(jac):\n",
        "    real_jac = np.empty((2*jac.shape[0], 2*jac.shape[1]))\n",
        "    real_jac[0::2, 0::2] = jac.real\n",
        "    real_jac[1::2, 1::2] = jac.real\n",
        "    real_jac[0::2, 1::2] = -jac.imag\n",
        "    real_jac[1::2, 0::2] = jac.imag\n",
        "    return real_jac"
      ],
      "metadata": {
        "id": "C046HiWpIS8P"
      },
      "execution_count": 6,
      "outputs": []
    },
    {
      "cell_type": "code",
      "source": [
        "def _transform_banded_jac(bjac):\n",
        "    # Shift every other column.\n",
        "    newjac = np.zeros((bjac.shape[0] + 1, bjac.shape[1]))\n",
        "    newjac[1:, ::2] = bjac[:, ::2]\n",
        "    newjac[:-1, 1::2] = bjac[:, 1::2]\n",
        "    return newjac"
      ],
      "metadata": {
        "id": "Y-8MT-drIaKe"
      },
      "execution_count": 7,
      "outputs": []
    },
    {
      "cell_type": "code",
      "source": [
        "def odeintw(func, y0, t, **kwargs):\n",
        "    full_output = kwargs.get('full_output', False)\n",
        "    tfirst = kwargs.get('tfirst', False)\n",
        "    Dfun = kwargs.pop('Dfun', None)\n",
        "\n",
        "    y0 = np.atleast_1d(y0)\n",
        "    shape = y0.shape\n",
        "\n",
        "    if y0.ndim == 1:\n",
        "        func1 = func\n",
        "        jacfunc1 = Dfun\n",
        "    else:\n",
        "        # y0 has dimension greater than 1.\n",
        "        _check_args(kwargs)\n",
        "\n",
        "        # Flatten y0, and create a wrapper for func that can be used\n",
        "        # by odeint.\n",
        "        y0 = y0.ravel()\n",
        "\n",
        "        if tfirst:\n",
        "            def vecfunc(t, y, *args):\n",
        "                a = y.reshape(shape)\n",
        "                dadt = func(t, a, *args)\n",
        "                return np.asarray(dadt).ravel()\n",
        "        else:\n",
        "            def vecfunc(y, t, *args):\n",
        "                a = y.reshape(shape)\n",
        "                dadt = func(a, t, *args)\n",
        "                return np.asarray(dadt).ravel()\n",
        "\n",
        "        func1 = vecfunc\n",
        "\n",
        "        if Dfun is not None:\n",
        "\n",
        "            if tfirst:\n",
        "                def jacfunc(t, y, *args):\n",
        "                    a = y.reshape(shape)\n",
        "                    jac = Dfun(t, a, *args)\n",
        "                    return np.asarray(jac).reshape(y0.size, y0.size)\n",
        "            else:\n",
        "                def jacfunc(y, t, *args):\n",
        "                    a = y.reshape(shape)\n",
        "                    jac = Dfun(a, t, *args)\n",
        "                    return np.asarray(jac).reshape(y0.size, y0.size)\n",
        "\n",
        "            jacfunc1 = jacfunc\n",
        "        else:\n",
        "            jacfunc1 = None\n",
        "\n",
        "    if not np.iscomplexobj(y0):\n",
        "        y0 = y0.astype(np.float64, **_astype_kwargs)\n",
        "        func2 = func1\n",
        "        jacfunc2 = jacfunc1\n",
        "    else:\n",
        "        # y0 is complex.\n",
        "        col_deriv = kwargs.pop('col_deriv', False)\n",
        "        ml = kwargs.pop('ml', None)\n",
        "        mu = kwargs.pop('mu', None)\n",
        "        kwargs['ml'] = None if ml is None else 1 + 2*ml\n",
        "        kwargs['mu'] = None if mu is None else 1 + 2*mu\n",
        "\n",
        "        # Cast y0 to np.complex128.\n",
        "        y0 = y0.astype(np.complex128, **_astype_kwargs)\n",
        "\n",
        "        # realfunc is a wrapper of the user's function that can be\n",
        "        # used by odeint.\n",
        "        if tfirst:\n",
        "            def realfunc(t, y, *args):\n",
        "                z = y.view(np.complex128)\n",
        "                dzdt = func1(t, z, *args)\n",
        "                # func1 might return a python list, or a scalar, so convert\n",
        "                # it to a float64 view of a complex128 array.\n",
        "                dydt = _float64_view_of_complex128(dzdt)\n",
        "                return dydt\n",
        "        else:\n",
        "            def realfunc(y, t, *args):\n",
        "                z = y.view(np.complex128)\n",
        "                dzdt = func1(z, t, *args)\n",
        "                # func1 might return a python list, or a scalar, so convert\n",
        "                # it to a float64 view of a complex128 array.\n",
        "                dydt = _float64_view_of_complex128(dzdt)\n",
        "                return dydt\n",
        "\n",
        "        func2 = realfunc\n",
        "\n",
        "        if jacfunc1 is not None:\n",
        "\n",
        "            if tfirst:\n",
        "                def jacfuncz(t, y, *args):\n",
        "                    z = y.view(np.complex128)\n",
        "                    jac = jacfunc1(t, z, *args)\n",
        "                    if col_deriv:\n",
        "                        # If col_deriv is True, transpose the result returned\n",
        "                        # by jacfunc1, and continue as if col_deriv was False.\n",
        "                        jac = jac.T\n",
        "                    # Convert jac to real_jac, an array in which each complex\n",
        "                    # value a+i*b in jac is expanded to the 2x2 array\n",
        "                    # [[a, -b], [b, a]].\n",
        "                    real_jac = _complex_to_real_jac(jac)\n",
        "                    if ml is not None or mu is not None:\n",
        "                        # Banded; shift every other column up one.\n",
        "                        real_jac = _transform_banded_jac(real_jac)\n",
        "                    return real_jac\n",
        "            else:\n",
        "                def jacfuncz(y, t, *args):\n",
        "                    z = y.view(np.complex128)\n",
        "                    jac = jacfunc1(z, t, *args)\n",
        "                    if col_deriv:\n",
        "                        # If col_deriv is True, transpose the result returned\n",
        "                        # by jacfunc1, and continue as if col_deriv was False.\n",
        "                        jac = jac.T\n",
        "                    # Convert jac to real_jac, an array in which each complex\n",
        "                    # value  a+i*b in jac is expanded to the 2x2 array\n",
        "                    # [[a, -b], [b, a]].\n",
        "                    real_jac = _complex_to_real_jac(jac)\n",
        "                    if ml is not None or mu is not None:\n",
        "                        # Banded; shift every other column up one.\n",
        "                        real_jac = _transform_banded_jac(real_jac)\n",
        "                    return real_jac\n",
        "\n",
        "            jacfunc2 = jacfuncz\n",
        "        else:\n",
        "            jacfunc2 = None\n",
        "\n",
        "    # Call scipy.integrate.odeint with our wrapper.\n",
        "    result = odeint(func2, y0.view(np.float64), t, Dfun=jacfunc2, **kwargs)\n",
        "\n",
        "    if full_output:\n",
        "        sol, infodict = result\n",
        "    else:\n",
        "        sol = result\n",
        "\n",
        "    if np.iscomplexobj(y0):\n",
        "        # Restore the complex view.\n",
        "        sol = sol.view(np.complex128)\n",
        "\n",
        "    # Restore the shape.\n",
        "    sol = sol.reshape(-1, *shape)\n",
        "\n",
        "    if full_output:\n",
        "        result = (sol, infodict)\n",
        "    else:\n",
        "        result = sol\n",
        "    return result"
      ],
      "metadata": {
        "id": "RC42gYAVIbM1"
      },
      "execution_count": 8,
      "outputs": []
    },
    {
      "cell_type": "code",
      "source": [
        "def asys(x, t, a):\n",
        "    return a.dot(x)"
      ],
      "metadata": {
        "id": "3_rAChxrIiGQ"
      },
      "execution_count": 9,
      "outputs": []
    },
    {
      "cell_type": "code",
      "source": [
        "def plot_weight_function():\n",
        "    a = np.array([[-0.5]])\n",
        "    t = np.linspace(0, 10, 201)\n",
        "\n",
        "    # x0 is the initial condition.\n",
        "    x0 = np.array([[7.0]])\n",
        "\n",
        "    sol = odeintw(asys, x0, t, args=(a,))\n",
        "\n",
        "    plt.figure(1)\n",
        "    plt.clf()\n",
        "    color1 = (0.5, 0.4, 0.3)\n",
        "    color2 = (0.2, 0.2, 1.0)\n",
        "    plt.plot(t, sol[:, 0, 0], color=color1, label='x[0,0]')\n",
        "    # plt.plot(t, sol[:, 0, 1], color=color2, label='x[0,1]')\n",
        "    # plt.plot(t, sol[:, 1, 0], '--', color=color1, linewidth=1.5, label='x[1,0]')\n",
        "    # plt.plot(t, sol[:, 1, 1], '--', color=color2, linewidth=1.5, label='x[1,1]')\n",
        "    plt.legend(loc='best')\n",
        "    plt.grid(True)\n",
        "    plt.show()"
      ],
      "metadata": {
        "id": "xOq7uKUFIwug"
      },
      "execution_count": 12,
      "outputs": []
    },
    {
      "cell_type": "code",
      "source": [
        "plot_weight_function()"
      ],
      "metadata": {
        "colab": {
          "base_uri": "https://localhost:8080/",
          "height": 265
        },
        "id": "HbtV_NqiJsFa",
        "outputId": "f42bcf5d-e4d9-4eab-8fbb-a44f6687eded"
      },
      "execution_count": 13,
      "outputs": [
        {
          "output_type": "display_data",
          "data": {
            "text/plain": [
              "<Figure size 432x288 with 1 Axes>"
            ],
            "image/png": "[encoded data removed]"
          },
          "metadata": {
            "needs_background": "light"
          }
        }
      ]
    },
    {
      "cell_type": "code",
      "source": [
        "def str_on_edge(a,b,c,d):\n",
        "    s = ''\n",
        "    if not a == 0 :\n",
        "       s = s + str(a) + 'Ohms '\n",
        "    if not b == 0 :\n",
        "       s = s + str(b) + 'Volts '\n",
        "    if not c == 0 :\n",
        "       s = s + str(c) + 'Farad '\n",
        "    if not d == 0 :\n",
        "       s = s + str(d) + 'Henry '\n",
        "    return s"
      ],
      "metadata": {
        "id": "P7Ibo4b74w6C"
      },
      "execution_count": 14,
      "outputs": []
    },
    {
      "cell_type": "code",
      "source": [
        "def print_sug_dir(vals):\n",
        "    for val in vals :\n",
        "        s = '[' + str(val[0]) + ']' + '---->' + '[' + str(val[1]) + ']'\n",
        "        print(s)"
      ],
      "metadata": {
        "id": "qrWxNRtvF-hq"
      },
      "execution_count": 15,
      "outputs": []
    },
    {
      "cell_type": "code",
      "source": [
        "# this function get the example circuit information\n",
        "# from .txt file by parsing it\n",
        "# \n",
        "# returns kirchoff graph as the result\n",
        "def circuit_parser(circ):\n",
        "     nodesnumber = 0\n",
        "     edgesnumber = 0\n",
        "     kgedgatt = {}\n",
        "     kgnodatt = {}\n",
        "     i = 0\n",
        "     # i is the loop variable\n",
        "     with open(circ) as f:\n",
        "         for line in f:\n",
        "            # for each line in the .txt file get the line number i\n",
        "            omitnewlines = line.replace('\\n', '')\n",
        "            # remove newlines\n",
        "            arrstr = omitnewlines.split(\" \")\n",
        "            arrnum = [float(numeric_string) for numeric_string in arrstr]\n",
        "            # in each lines there are some numbers\n",
        "            # convert the line which is a string to array of numbers\n",
        "            if i == 0 :\n",
        "              # if its the first line it determines \n",
        "              # number of nodes & edges\n",
        "              nodesnumber = int(arrnum[0])\n",
        "              edgesnumber = int(arrnum[1])\n",
        "              kgam = np.zeros([nodesnumber,nodesnumber], dtype=float)\n",
        "            else :\n",
        "              # else it means that this line is an information about an edge\n",
        "              # the origin and the destanation node\n",
        "              # & information that an edge contains\n",
        "              xmat = int(arrnum[0])\n",
        "              ymat = int(arrnum[1])\n",
        "\n",
        "              Coord = (xmat,ymat)\n",
        "              kgam[xmat][ymat] = 1\n",
        "   \n",
        "              att_of_edge = {}\n",
        "              att_of_edge['resistor'] = arrnum[2]\n",
        "              att_of_edge['battery'] = arrnum[3]\n",
        "              att_of_edge['capacitor'] = arrnum[4]\n",
        "              att_of_edge['self'] = arrnum[5]\n",
        "              att_of_edge['suggested_dir'] = Coord\n",
        "              att_of_edge['whole'] = str_on_edge(arrnum[2],arrnum[3],\n",
        "                                                 arrnum[4],arrnum[5])\n",
        "\n",
        "              kgedgatt[Coord] = att_of_edge\n",
        "            i = i + 1\n",
        "     df = pd.DataFrame(kgam)\n",
        "     kg = nx.from_pandas_adjacency(df)\n",
        "     nx.set_edge_attributes(kg, kgedgatt)\n",
        "     return kg"
      ],
      "metadata": {
        "id": "3RLaDJTKXMIz"
      },
      "execution_count": 16,
      "outputs": []
    },
    {
      "cell_type": "code",
      "source": [
        "def plot_kirchoffgraph(kg):\n",
        "    pos = nx.spring_layout(kg)\n",
        "    nx.draw(kg, pos, with_labels=True, node_color='#FF0000')\n",
        "    edge_labels = nx.get_edge_attributes(kg,'whole')\n",
        "    nx.draw_networkx_edge_labels(kg, pos, edge_labels)\n",
        "    plt.show()\n",
        "    print_sug_dir(nx.get_edge_attributes(kg,'suggested_dir').values())"
      ],
      "metadata": {
        "id": "xL35Ed6rtUGT"
      },
      "execution_count": 17,
      "outputs": []
    },
    {
      "cell_type": "code",
      "source": [
        "# this function takes kirchoff graph & minimum spaning tree\n",
        "# and returns edges that eliminated \n",
        "# from kirchoff graph to build its minimum spaning tree\n",
        "#\n",
        "# kirchoff graph minimum spaning tree + eliminated edges = kirchoff graph \n",
        "def Eliminated_Edges(kgam,kgmstam):\n",
        "    nodesnumber = len(kgam)\n",
        "    l = []\n",
        "    for i in range(nodesnumber):\n",
        "       for j in range(nodesnumber):\n",
        "           if kgam[i][j] == 1 and kgmstam[i][j]== 0 :\n",
        "              if [j,i] not in l :\n",
        "                 l.append([i,j])\n",
        "    return np.array(l)"
      ],
      "metadata": {
        "id": "zKAQjAloXbtL"
      },
      "execution_count": 18,
      "outputs": []
    },
    {
      "cell_type": "code",
      "source": [
        "# by removing some edges from kirchoff graph\n",
        "# we calculated minimum spaning tree\n",
        "# for finding fundemental cycles of kirchoff graph\n",
        "# we need to restore eliminated edges one by one\n",
        "# and create list of graph (for more description read the doc)\n",
        "# \n",
        "# this function takes minimum spaning tree (kgmst)\n",
        "#  & eliminated edges as input\n",
        "# and return the list that mentioned above\n",
        "def graph_list(kgmstam,eled):\n",
        "    i = 0\n",
        "    glam = np.zeros([len(eled),len(kgmstam),len(kgmstam)], dtype=int)\n",
        "    gl = []\n",
        "    for edge in eled :\n",
        "        glam[i] = kgmstam\n",
        "        glam[i][edge[0]][edge[1]] = 1\n",
        "        glam[i][edge[1]][edge[0]] = 1\n",
        "        i = i + 1\n",
        "    for am in glam :\n",
        "        df = pd.DataFrame(am)\n",
        "        g = nx.from_pandas_adjacency(df)\n",
        "        gl.append(g)\n",
        "    return gl\n",
        "        "
      ],
      "metadata": {
        "id": "18w5mXxyXeve"
      },
      "execution_count": 19,
      "outputs": []
    },
    {
      "cell_type": "code",
      "source": [
        "# this function get graph list as input\n",
        "# and returns kirchoff graph fundamental cycles as list\n",
        "def find_fundamental_cycles(gl) :\n",
        "    fcl = []\n",
        "    for g in gl :\n",
        "        try:\n",
        "           fcl.append(nx.find_cycle(g, orientation=\"ignore\"))\n",
        "        except nx.exception.NetworkXNoCycle:\n",
        "           continue\n",
        "    return fcl\n"
      ],
      "metadata": {
        "id": "Asy0gQT2Xggs"
      },
      "execution_count": 20,
      "outputs": []
    },
    {
      "cell_type": "code",
      "source": [
        "def isstraight(org,dst,suggested_dir):\n",
        "    return (suggested_dir[0] == org) and (suggested_dir[1] == dst)"
      ],
      "metadata": {
        "id": "_l6zHPjXXj6B"
      },
      "execution_count": 21,
      "outputs": []
    },
    {
      "cell_type": "code",
      "source": [
        "def get_A_coord(kg,org,dst):\n",
        "    edges = kg.edges()\n",
        "    i = 0 \n",
        "    for edge in kg.edges():\n",
        "        c1 = edge[0] == org and edge[1] == dst\n",
        "        c2 = edge[1] == org and edge[0] == dst\n",
        "        if c1 or c2 :\n",
        "           return i\n",
        "        i = i + 1"
      ],
      "metadata": {
        "id": "0OCckwW8SXbX"
      },
      "execution_count": 22,
      "outputs": []
    },
    {
      "cell_type": "code",
      "source": [
        "def find_kg_edges_weights(kg):\n",
        "    kgmst = nx.minimum_spanning_tree(kg)\n",
        "    kgmstam = nx.to_numpy_array(kgmst).astype(int)\n",
        "    kgam = nx.to_numpy_array(kg).astype(int)\n",
        "    eled = Eliminated_Edges(kgam,kgmstam)\n",
        "    gl = graph_list(kgmstam,eled)\n",
        "    fcl = find_fundamental_cycles(gl)\n",
        "    edge_number = kg.number_of_edges()\n",
        "    B = np.zeros([edge_number,1])\n",
        "    A = np.zeros([edge_number,edge_number])\n",
        "    i = 0\n",
        "    for cycle in fcl :\n",
        "        volsum = 0\n",
        "        res = 0\n",
        "        for edge in cycle :\n",
        "            org = edge[0]\n",
        "            dst = edge[1]\n",
        "            sugdir = kg.get_edge_data(org,dst)['suggested_dir']\n",
        "            if isstraight(org,dst,sugdir) :\n",
        "               volsum = volsum - kg.get_edge_data(org,dst)['battery']\n",
        "               res = -kg.get_edge_data(org,dst)['resistor']\n",
        "               cor = get_A_coord(kg,org,dst)\n",
        "               A[i][cor] = res\n",
        "            else :\n",
        "               volsum = volsum + kg.get_edge_data(org,dst)['battery']\n",
        "               res = +kg.get_edge_data(org,dst)['resistor']\n",
        "               cor = get_A_coord(kg,org,dst)\n",
        "               A[i][cor] = res\n",
        "        B[i][0]= volsum\n",
        "        i = i + 1\n",
        "    for node in kg.nodes :\n",
        "        for nei in kg.neighbors(node):\n",
        "            sugdir = kg.get_edge_data(node,nei)['suggested_dir']\n",
        "            inr = isstraight(node,nei,sugdir)\n",
        "            cor = get_A_coord(kg,node,nei)\n",
        "            if isstraight(node,nei,sugdir) :\n",
        "               A[i][cor] = -1\n",
        "            else :\n",
        "                 A[i][cor] = 1\n",
        "        i = i + 1\n",
        "        if i == kg.number_of_edges():\n",
        "           break\n",
        "    return linalg.solve(A, B)"
      ],
      "metadata": {
        "id": "WxYv3W2CXodL"
      },
      "execution_count": 23,
      "outputs": []
    },
    {
      "cell_type": "code",
      "source": [
        "kg2 = circuit_parser('circuit2.txt')\n",
        "plot_kirchoffgraph(kg2)"
      ],
      "metadata": {
        "colab": {
          "base_uri": "https://localhost:8080/",
          "height": 441
        },
        "id": "ZR77ql6kZhTR",
        "outputId": "d90f5ee9-c78b-45aa-e419-38905a5b5fb6"
      },
      "execution_count": 24,
      "outputs": [
        {
          "output_type": "display_data",
          "data": {
            "text/plain": [
              "<Figure size 432x288 with 1 Axes>"
            ],
            "image/png": "[encoded data removed]"
          },
          "metadata": {}
        },
        {
          "output_type": "stream",
          "name": "stdout",
          "text": [
            "[0]---->[1]\n",
            "[5]---->[0]\n",
            "[1]---->[2]\n",
            "[2]---->[5]\n",
            "[3]---->[2]\n",
            "[4]---->[3]\n",
            "[5]---->[4]\n"
          ]
        }
      ]
    },
    {
      "cell_type": "code",
      "source": [
        "find_kg_edges_weights(kg2)"
      ],
      "metadata": {
        "colab": {
          "base_uri": "https://localhost:8080/"
        },
        "id": "I4Buht_dgjv-",
        "outputId": "7d9c2991-0672-4f7c-f484-2e286228ce92"
      },
      "execution_count": 25,
      "outputs": [
        {
          "output_type": "execute_result",
          "data": {
            "text/plain": [
              "array([[0.19032258],\n",
              "       [0.19032258],\n",
              "       [0.19032258],\n",
              "       [0.52903226],\n",
              "       [0.33870968],\n",
              "       [0.33870968],\n",
              "       [0.33870968]])"
            ]
          },
          "metadata": {},
          "execution_count": 25
        }
      ]
    }
  ]
}